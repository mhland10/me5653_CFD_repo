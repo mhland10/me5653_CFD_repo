{
 "cells": [
  {
   "cell_type": "markdown",
   "metadata": {},
   "source": [
    "This jupyter notebook tests the capabilities to calculate the coefficients.\n"
   ]
  },
  {
   "cell_type": "code",
   "execution_count": 1,
   "metadata": {},
   "outputs": [],
   "source": [
    "import sys\n",
    "import os\n",
    "\n",
    "# Add the directory containing your module to sys.path\n",
    "module_path = os.path.abspath(os.path.join('..', r\"A:\\Users\\mtthl\\Documents\\Education\\ME5653_CFD\\git\\me5653_CFD_repo\\code\\lib\" ))\n",
    "sys.path.append(module_path)\n",
    "\n",
    "from distributedFunctions import *\n"
   ]
  },
  {
   "cell_type": "markdown",
   "metadata": {},
   "source": [
    "So, let's test a simple case: a single order derivative that is a central difference.\n"
   ]
  },
  {
   "cell_type": "code",
   "execution_count": 2,
   "metadata": {},
   "outputs": [
    {
     "name": "stdout",
     "output_type": "stream",
     "text": [
      " \n",
      " \n",
      " \n"
     ]
    },
    {
     "data": {
      "text/plain": [
       "array([-0.5,  0. ,  0.5])"
      ]
     },
     "execution_count": 2,
     "metadata": {},
     "output_type": "execute_result"
    }
   ],
   "source": [
    "coeffs_central1 = gradientCoefficients( 1 , 1 , 1 , 1 )\n",
    "coeffs_central1\n",
    "\n"
   ]
  },
  {
   "cell_type": "markdown",
   "metadata": {},
   "source": [
    "This looks correct. The next step is to look at similar gradients that are asymmetric.\n"
   ]
  },
  {
   "cell_type": "code",
   "execution_count": 3,
   "metadata": {},
   "outputs": [
    {
     "name": "stdout",
     "output_type": "stream",
     "text": [
      " \n",
      " \n",
      " \n"
     ]
    },
    {
     "data": {
      "text/plain": [
       "array([-1.5,  2. , -0.5])"
      ]
     },
     "execution_count": 3,
     "metadata": {},
     "output_type": "execute_result"
    }
   ],
   "source": [
    "coeffs_fullright1 = gradientCoefficients( 1 , 0 , 2 , 1 )\n",
    "coeffs_fullright1\n"
   ]
  },
  {
   "cell_type": "code",
   "execution_count": 4,
   "metadata": {},
   "outputs": [
    {
     "name": "stdout",
     "output_type": "stream",
     "text": [
      " \n",
      " \n",
      " \n"
     ]
    },
    {
     "data": {
      "text/plain": [
       "array([ 0.5, -2. ,  1.5])"
      ]
     },
     "execution_count": 4,
     "metadata": {},
     "output_type": "execute_result"
    }
   ],
   "source": [
    "coeffs_fullleft1 = gradientCoefficients( 1 , 2 , 0 , 1 )\n",
    "coeffs_fullleft1\n"
   ]
  },
  {
   "cell_type": "markdown",
   "metadata": {},
   "source": [
    "So what about more points?"
   ]
  },
  {
   "cell_type": "code",
   "execution_count": 5,
   "metadata": {},
   "outputs": [
    {
     "name": "stdout",
     "output_type": "stream",
     "text": [
      " \n",
      " \n",
      " \n",
      " \n",
      " \n"
     ]
    },
    {
     "data": {
      "text/plain": [
       "array([ 8.33333333e-02, -6.66666667e-01,  1.11022302e-16,  6.66666667e-01,\n",
       "       -8.33333333e-02])"
      ]
     },
     "execution_count": 5,
     "metadata": {},
     "output_type": "execute_result"
    }
   ],
   "source": [
    "coeffs_doublesymmetric1 = gradientCoefficients( 1 , 2 , 2 , 1 )\n",
    "coeffs_doublesymmetric1\n"
   ]
  },
  {
   "cell_type": "markdown",
   "metadata": {},
   "source": [
    "That looks correct\n"
   ]
  },
  {
   "cell_type": "code",
   "execution_count": 6,
   "metadata": {},
   "outputs": [
    {
     "name": "stdout",
     "output_type": "stream",
     "text": [
      " \n",
      " \n",
      " \n",
      " \n",
      " \n"
     ]
    },
    {
     "data": {
      "text/plain": [
       "array([-0.08333333,  1.33333333, -2.5       ,  1.33333333, -0.08333333])"
      ]
     },
     "execution_count": 6,
     "metadata": {},
     "output_type": "execute_result"
    }
   ],
   "source": [
    "coeffs_doublesymmetric2 = gradientCoefficients( 2 , 2 , 2 , 1 )\n",
    "coeffs_doublesymmetric2\n"
   ]
  },
  {
   "cell_type": "code",
   "execution_count": 7,
   "metadata": {},
   "outputs": [
    {
     "name": "stdout",
     "output_type": "stream",
     "text": [
      " \n",
      " \n",
      " \n",
      " \n"
     ]
    },
    {
     "data": {
      "text/plain": [
       "array([ 0.16666667, -1.        ,  0.5       ,  0.33333333])"
      ]
     },
     "execution_count": 7,
     "metadata": {},
     "output_type": "execute_result"
    }
   ],
   "source": [
    "coeffs_oneextraright1 = gradientCoefficients( 1 , 2 , 1 , 1 )\n",
    "coeffs_oneextraright1\n"
   ]
  },
  {
   "cell_type": "code",
   "execution_count": 8,
   "metadata": {},
   "outputs": [
    {
     "name": "stdout",
     "output_type": "stream",
     "text": [
      " \n",
      " \n",
      " \n",
      " \n"
     ]
    },
    {
     "data": {
      "text/plain": [
       "array([-0.33333333, -0.5       ,  1.        , -0.16666667])"
      ]
     },
     "execution_count": 8,
     "metadata": {},
     "output_type": "execute_result"
    }
   ],
   "source": [
    "coeffs_oneextraright1 = gradientCoefficients( 1 , 1 , 2 , 1 )\n",
    "coeffs_oneextraright1\n",
    "\n"
   ]
  },
  {
   "cell_type": "markdown",
   "metadata": {},
   "source": [
    "What about a ridiculous case?\n"
   ]
  },
  {
   "cell_type": "code",
   "execution_count": 9,
   "metadata": {},
   "outputs": [
    {
     "name": "stdout",
     "output_type": "stream",
     "text": [
      " \n",
      " \n",
      " \n",
      " \n",
      " \n",
      " \n",
      " \n",
      " \n",
      " \n",
      " \n",
      " \n",
      " \n",
      " \n",
      " \n",
      " \n",
      " \n",
      " \n"
     ]
    },
    {
     "data": {
      "text/plain": [
       "array([-1.37630431e-03,  2.83564469e-02, -2.93692271e-01,  2.08097632e+00,\n",
       "       -5.45013157e+00,  4.94951988e+00,  2.89814506e+00, -1.14105042e+01,\n",
       "        1.37655218e+01, -1.10264279e+01,  6.79894753e+00, -3.27823445e+00,\n",
       "        1.21826589e+00, -3.37493093e-01,  6.56800232e-02, -8.01460488e-03,\n",
       "        4.61518365e-04])"
      ]
     },
     "execution_count": 9,
     "metadata": {},
     "output_type": "execute_result"
    }
   ],
   "source": [
    "coeffs_4 = gradientCoefficients( 4 , 5 , 11 , 1 )\n",
    "coeffs_4\n"
   ]
  },
  {
   "cell_type": "markdown",
   "metadata": {},
   "source": [
    "Now, let's check the answers we got in the homework problem\n"
   ]
  },
  {
   "cell_type": "code",
   "execution_count": 10,
   "metadata": {},
   "outputs": [
    {
     "name": "stdout",
     "output_type": "stream",
     "text": [
      " \n",
      " \n",
      " \n",
      " \n",
      " \n"
     ]
    },
    {
     "data": {
      "text/plain": [
       "array([ 8.33333333e-02, -6.66666667e-01,  1.11022302e-16,  6.66666667e-01,\n",
       "       -8.33333333e-02])"
      ]
     },
     "execution_count": 10,
     "metadata": {},
     "output_type": "execute_result"
    }
   ],
   "source": [
    "coeffs_1a_internal = gradientCoefficients( 1 , 2 , 2 , 4 )\n",
    "coeffs_1a_internal\n"
   ]
  },
  {
   "cell_type": "code",
   "execution_count": 11,
   "metadata": {},
   "outputs": [
    {
     "name": "stdout",
     "output_type": "stream",
     "text": [
      " \n",
      " \n",
      " \n",
      " \n",
      " \n"
     ]
    },
    {
     "data": {
      "text/plain": [
       "array([ 0.25      , -1.33333333,  3.        , -4.        ,  2.08333333])"
      ]
     },
     "execution_count": 11,
     "metadata": {},
     "output_type": "execute_result"
    }
   ],
   "source": [
    "coeffs_1a_RHS = gradientCoefficients( 1 , 4 , 0 , 4 )\n",
    "coeffs_1a_RHS\n"
   ]
  },
  {
   "cell_type": "code",
   "execution_count": 12,
   "metadata": {},
   "outputs": [
    {
     "name": "stdout",
     "output_type": "stream",
     "text": [
      " \n",
      " \n",
      " \n",
      " \n",
      " \n"
     ]
    },
    {
     "data": {
      "text/plain": [
       "array([-2.08333333,  4.        , -3.        ,  1.33333333, -0.25      ])"
      ]
     },
     "execution_count": 12,
     "metadata": {},
     "output_type": "execute_result"
    }
   ],
   "source": [
    "coeffs_1a_LHS = gradientCoefficients( 1 , 0 , 4 , 4 )\n",
    "coeffs_1a_LHS\n"
   ]
  },
  {
   "cell_type": "code",
   "execution_count": 13,
   "metadata": {},
   "outputs": [
    {
     "name": "stdout",
     "output_type": "stream",
     "text": [
      " \n",
      " \n",
      " \n",
      " \n",
      " \n",
      " \n",
      " \n"
     ]
    },
    {
     "data": {
      "text/plain": [
       "array([ 0.01111111, -0.15      ,  1.5       , -2.72222222,  1.5       ,\n",
       "       -0.15      ,  0.01111111])"
      ]
     },
     "execution_count": 13,
     "metadata": {},
     "output_type": "execute_result"
    }
   ],
   "source": [
    "coeffs_1b_internal = gradientCoefficients( 2 , 3 , 3 , 6 )\n",
    "coeffs_1b_internal\n"
   ]
  },
  {
   "cell_type": "code",
   "execution_count": 14,
   "metadata": {},
   "outputs": [
    {
     "name": "stdout",
     "output_type": "stream",
     "text": [
      " \n",
      " \n",
      " \n",
      " \n",
      " \n",
      " \n",
      " \n"
     ]
    },
    {
     "data": {
      "text/plain": [
       "array([  4.51111111, -17.4       ,  29.25      , -28.22222222,\n",
       "        16.5       ,  -5.4       ,   0.76111111])"
      ]
     },
     "execution_count": 14,
     "metadata": {},
     "output_type": "execute_result"
    }
   ],
   "source": [
    "coeffs_1b_LHS = gradientCoefficients( 2 , 0 , 6 , 6 )\n",
    "coeffs_1b_LHS\n"
   ]
  },
  {
   "cell_type": "code",
   "execution_count": null,
   "metadata": {},
   "outputs": [],
   "source": []
  }
 ],
 "metadata": {
  "kernelspec": {
   "display_name": "davinci",
   "language": "python",
   "name": "python3"
  },
  "language_info": {
   "codemirror_mode": {
    "name": "ipython",
    "version": 3
   },
   "file_extension": ".py",
   "mimetype": "text/x-python",
   "name": "python",
   "nbconvert_exporter": "python",
   "pygments_lexer": "ipython3",
   "version": "3.10.14"
  }
 },
 "nbformat": 4,
 "nbformat_minor": 2
}
