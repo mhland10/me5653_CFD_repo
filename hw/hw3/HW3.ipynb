{
 "cells": [
  {
   "cell_type": "markdown",
   "metadata": {},
   "source": [
    "# Introduction\n",
    "\n",
    "In this Homework, we will be developing a solver that solves the Burger's equation, see inviscid form below.\n",
    "\n",
    "$$ \\frac{\\partial u}{\\partial t}+u\\frac{\\partial u}{\\partial x}=0 $$\n",
    "\n",
    "This form can also be re-written in flux form below, also in inviscid form.\n",
    "\n",
    "$$ \\frac{\\partial u}{\\partial t}+\\frac{1}{2}\\frac{\\partial u^{2}}{\\partial x}=0 $$\n"
   ]
  },
  {
   "cell_type": "code",
   "execution_count": 1,
   "metadata": {},
   "outputs": [],
   "source": [
    "import sys\n",
    "import os\n",
    "import time\n",
    "import numpy as np\n",
    "import matplotlib.pyplot as plt\n",
    "\n",
    "# Add the directory containing your module to sys.path\n",
    "module_path = os.path.abspath(os.path.join('..', r\"A:\\Users\\mtthl\\Documents\\Education\\ME5653_CFD\\git\\me5653_CFD_repo\\code\\lib\" ))\n",
    "sys.path.append(module_path)\n",
    "\n",
    "from distributedObjects import *\n",
    "from distributedFunctions import *\n"
   ]
  },
  {
   "cell_type": "markdown",
   "metadata": {},
   "source": [
    "# Part (1)\n",
    "\n",
    "The first part is to solve the Burger's equation using Lax method. The fundamental transformation that we need to understand to facilitate this method is that the term $\\frac{u^{2}}{2}$ is substituted by $v$. Thus, the Burger's equation takes the form of:\n",
    "\n",
    "$$ \\frac{\\partial u}{\\partial t}+\\frac{\\partial v}{\\partial x}=0 $$\n",
    "\n",
    "It is worth noting that $ \\underline{\\text{Computational Fluid Mechanics and Heat Transfer}} $ by Anderson et al. $^{[1]}$ use $F$ instead of $v$, so those two notations may be used interchangeably.\n",
    "\n",
    "Lax method in 1D takes 3x points for a stencil for the time gradient\n"
   ]
  },
  {
   "cell_type": "code",
   "execution_count": 2,
   "metadata": {},
   "outputs": [
    {
     "name": "stdout",
     "output_type": "stream",
     "text": [
      " \n",
      " \n",
      " \n",
      " \n",
      " \n",
      " \n",
      "The coefficients for the time gradient are:\t[-1.  1.]\n"
     ]
    }
   ],
   "source": [
    "lax_tg_gradient = numericalGradient( 1 , ( 1 , 0 ) )\n",
    "print( \"The coefficients for the time gradient are:\\t\" + str( lax_tg_gradient.coeffs ) )\n"
   ]
  },
  {
   "cell_type": "markdown",
   "metadata": {},
   "source": [
    "However, there is a slight modification in the method for the time gradient, which is that the previous time step is represented by the average of the two surrounding points. ie:\n",
    "\n",
    "$$ \\frac{\\partial u}{\\partial t} = \\frac{u^{n+1}_{i}- \\left( \\frac{u^{n}_{i+1}+u^{n}_{i-1}}{2} \\right)}{\\Delta t} $$\n"
   ]
  },
  {
   "cell_type": "markdown",
   "metadata": {},
   "source": [
    "Now, the spatial gradient is requested to be 6th order for the interior points, and 5th order for the boundary points.\n",
    "\n",
    "Thus, the interior points can be calculated.\n"
   ]
  },
  {
   "cell_type": "code",
   "execution_count": 3,
   "metadata": {},
   "outputs": [
    {
     "name": "stdout",
     "output_type": "stream",
     "text": [
      " \n",
      " \n",
      " \n",
      " \n",
      " \n",
      " \n",
      " \n",
      " \n",
      " \n",
      " \n",
      " \n",
      " \n",
      " \n",
      " \n",
      " \n",
      " \n",
      " \n",
      " \n",
      " \n",
      " \n",
      " \n",
      "The coefficient for the interior spatial gradient are:\n",
      "\t[-1.66666667e-02  1.50000000e-01 -7.50000000e-01  3.70074342e-16\n",
      "  7.50000000e-01 -1.50000000e-01  1.66666667e-02]\n"
     ]
    }
   ],
   "source": [
    "lax_sg_gradient = numericalGradient( 1 , ( 3 , 3 ) )\n",
    "print( \"The coefficient for the interior spatial gradient are:\\n\\t\" + str( lax_sg_gradient.coeffs ) )\n"
   ]
  },
  {
   "cell_type": "markdown",
   "metadata": {},
   "source": [
    "And the boundary points.\n"
   ]
  },
  {
   "cell_type": "code",
   "execution_count": 4,
   "metadata": {},
   "outputs": [
    {
     "name": "stdout",
     "output_type": "stream",
     "text": [
      " \n",
      " \n",
      " \n",
      " \n",
      " \n",
      " \n",
      " \n",
      " \n",
      " \n",
      " \n",
      " \n",
      " \n",
      " \n",
      " \n",
      " \n",
      " \n",
      " \n",
      " \n",
      "The coefficients for the LHS boundary spatial gradient are:\n",
      "\t[-2.28333333  5.         -5.          3.33333333 -1.25        0.2       ]\n"
     ]
    }
   ],
   "source": [
    "lax_sg_LHS_gradient = numericalGradient( 1 , ( 0 , 5 ) )\n",
    "print( \"The coefficients for the LHS boundary spatial gradient are:\\n\\t\" + str( lax_sg_LHS_gradient.coeffs ) )\n"
   ]
  },
  {
   "cell_type": "code",
   "execution_count": 5,
   "metadata": {},
   "outputs": [
    {
     "name": "stdout",
     "output_type": "stream",
     "text": [
      " \n",
      " \n",
      " \n",
      " \n",
      " \n",
      " \n",
      " \n",
      " \n",
      " \n",
      " \n",
      " \n",
      " \n",
      " \n",
      " \n",
      " \n",
      " \n",
      " \n",
      " \n",
      "The coefficients for the RHS boundary spatial gradient are:\n",
      "\t[-0.2         1.25       -3.33333333  5.         -5.          2.28333333]\n"
     ]
    }
   ],
   "source": [
    "lax_sg_RHS_gradient = numericalGradient( 1 , ( 5 , 0 ) )\n",
    "print( \"The coefficients for the RHS boundary spatial gradient are:\\n\\t\" + str( lax_sg_RHS_gradient.coeffs ) )\n"
   ]
  },
  {
   "cell_type": "markdown",
   "metadata": {},
   "source": [
    "Thus, from these results, the spatial gradients become\n",
    "\n",
    "$ \\underline{\\text{Interior Points}} $:\n",
    "\n",
    "$$ \\frac{\\partial v}{\\partial t}= \\frac{-\\frac{1}{60} v_{i-3}+\\frac{3}{20} v_{i-2}-\\frac{3}{4} v_{i-1}+\\frac{3}{4} v_{i+1}-\\frac{3}{20} v_{i+2}+\\frac{1}{60} v_{i+3}}{\\Delta x}$$\n",
    "\n",
    "$ \\underline{\\text{LHS points}} $:\n",
    "\n",
    "$$ \\frac{\\partial v}{\\partial t}= \\frac{-\\frac{137}{60} v_{i}+5 v_{i+1}-5 v_{i+2}+\\frac{10}{3} v_{i+3}-\\frac{5}{4} v_{i+4}+\\frac{1}{5} v_{i+5}}{\\Delta x} $$\n",
    "\n",
    "$ \\underline{\\text{RHS points}} $:\n",
    "\n",
    "$$ \\frac{\\partial v}{\\partial t}= \\frac{\\frac{137}{60} v_{i}-5 v_{i-1}+5 v_{i-2}-\\frac{10}{3} v_{i-3}+\\frac{5}{4} v_{i-4}-\\frac{1}{5} v_{i-5}}{\\Delta x} $$\n"
   ]
  },
  {
   "cell_type": "markdown",
   "metadata": {},
   "source": [
    "Re-arranging all these equations to get the unknowns on the left side and the knowns from the previous time step on the right side, we get for the interior points:\n",
    "\n",
    "$$ u^{n+1}_{i}=\\frac{1}{2}\\left(u^{n}_{i-1}+u^{n}_{i+1}\\right)+\\left(\\frac{\\Delta t}{\\Delta x}\\right)\\left( -\\frac{1}{60}v_{i-3}+\\frac{3}{20}v_{i-2}-\\frac{3}{4}v_{i-1}+\\frac{3}{4}v_{i+1}-\\frac{3}{20}v_{i+2}+\\frac{1}{60}v_{i+3} \\right) $$\n"
   ]
  },
  {
   "cell_type": "markdown",
   "metadata": {},
   "source": [
    "This forms the following linear equation:\n",
    "\n",
    "$$ [1][u_{i}]^{n+1}= \\frac{1}{2}\\begin{bmatrix} 1 & 0 & 1 \\end{bmatrix} \\begin{bmatrix} u_{i-1} & u_{i} & u_{i+1} \\end{bmatrix}^{T, n} + C \\begin{bmatrix} -\\frac{1}{60} & \\frac{3}{20} & -\\frac{3}{4} & 0 & \\frac{3}{4} & -\\frac{3}{20} & \\frac{1}{60} \\end{bmatrix} \\begin{bmatrix} v_{i-3} & v_{i-2} & v_{i-1} & v_{i} & v_{i+1} & v_{i+2} & v_{i+3} \\end{bmatrix}^{T , n}  $$\n",
    "\n",
    "Where $C=\\left(\\frac{\\Delta t}{\\Delta x}\\right) $, where $ CFL=Cu $\n",
    "\n"
   ]
  },
  {
   "cell_type": "markdown",
   "metadata": {},
   "source": [
    "To use this solver, we will first use an example problem of the following characteristic function:\n",
    "\n",
    "$$ u(x,t)=-U tanh(k(x+ut)) $$\n",
    "\n",
    "In this case, $x\\in(0,1)$, $k=1$, and since the domain of $t$ is not defined, $t\\in(0,1)$. There will be 1,000 x and t samples.\n"
   ]
  },
  {
   "cell_type": "code",
   "execution_count": 6,
   "metadata": {},
   "outputs": [],
   "source": [
    "N_x = int(10)\n",
    "N_t = int(20)\n",
    "x_domain = np.linspace( 0 , 1 , num=N_x )\n",
    "t_domain = np.linspace( 0 , 1 , num=N_t )\n",
    "k = 1\n"
   ]
  },
  {
   "cell_type": "markdown",
   "metadata": {},
   "source": [
    "And from this, we can set the characteristic function to be essentially non-dimensional to its maximum initial value by setting $U=1$.\n"
   ]
  },
  {
   "cell_type": "code",
   "execution_count": 7,
   "metadata": {},
   "outputs": [],
   "source": [
    "U = 1\n"
   ]
  },
  {
   "cell_type": "markdown",
   "metadata": {},
   "source": [
    "Thus, the exact solution becomes:\n"
   ]
  },
  {
   "cell_type": "code",
   "execution_count": 8,
   "metadata": {},
   "outputs": [],
   "source": [
    "u_exact = np.zeros( ( len(x_domain) , len(t_domain) ) )\n",
    "\n",
    "for i , t in enumerate( t_domain ):\n",
    "    if i>0:\n",
    "        u_exact[:,i] = - U * np.tanh( k * ( x_domain + u_exact[:,i-1] * t ) )\n",
    "    else:\n",
    "        u_exact[:,i] = - U * np.tanh( k * x_domain )\n"
   ]
  },
  {
   "cell_type": "code",
   "execution_count": 9,
   "metadata": {},
   "outputs": [
    {
     "data": {
      "image/png": "[encoded data removed]",
      "text/plain": [
       "<Figure size 640x480 with 2 Axes>"
      ]
     },
     "metadata": {},
     "output_type": "display_data"
    }
   ],
   "source": [
    "x = x_domain\n",
    "y = t_domain\n",
    "X , Y = np.meshgrid( x , y )\n",
    "\n",
    "Z = u_exact\n",
    "\n",
    "levels=np.linspace( np.min(u_exact) , np.max(u_exact) , 25 )\n",
    "contour = plt.contourf( X.T , Y.T , Z , levels=levels )\n",
    "\n",
    "plt.title( \"Exact Solution for Burgers Equation\" )\n",
    "plt.xlabel( \"x\" )\n",
    "plt.ylabel( \"t\" )\n",
    "\n",
    "cbar = plt.colorbar( contour )\n",
    "cbar.set_label( \"u\" )\n",
    "\n",
    "plt.show()\n"
   ]
  },
  {
   "cell_type": "markdown",
   "metadata": {},
   "source": [
    "Now with the exact solution, we can find the numerical solution for $CFL=0.8$\n"
   ]
  },
  {
   "cell_type": "code",
   "execution_count": 10,
   "metadata": {},
   "outputs": [],
   "source": [
    "CFL = 0.8\n",
    "\n",
    "burger_1a = burgersEquation( x_domain , u_exact[:,0] , ( np.min( t_domain ) , np.max( t_domain ) ) , C = CFL/np.max(np.abs(u_exact)) )\n"
   ]
  },
  {
   "cell_type": "code",
   "execution_count": 11,
   "metadata": {},
   "outputs": [
    {
     "name": "stdout",
     "output_type": "stream",
     "text": [
      " \n",
      " \n",
      " \n",
      " \n",
      " \n",
      " \n",
      " \n",
      " \n",
      " \n",
      " \n",
      " \n",
      " \n",
      " \n",
      " \n",
      " \n",
      " \n",
      " \n",
      " \n",
      " \n",
      " \n",
      " \n",
      " \n",
      " \n",
      " \n",
      " \n",
      " \n",
      " \n",
      " \n",
      " \n",
      " \n",
      " \n",
      " \n",
      " \n",
      " \n",
      " \n",
      " \n",
      " \n",
      " \n",
      " \n",
      " \n",
      " \n",
      " \n",
      " \n",
      " \n",
      " \n",
      " \n",
      " \n",
      " \n",
      " \n",
      " \n",
      " \n",
      " \n",
      " \n",
      " \n",
      " \n",
      " \n",
      " \n",
      " \n",
      " \n",
      " \n",
      " \n",
      " \n",
      " \n",
      " \n",
      " \n",
      " \n",
      " \n",
      " \n",
      " \n",
      " \n",
      " \n",
      " \n",
      " \n",
      " \n",
      " \n",
      " \n",
      " \n",
      " \n",
      " \n",
      " \n",
      " \n",
      " \n",
      " \n",
      " \n",
      " \n",
      " \n",
      " \n",
      " \n",
      " \n",
      " \n",
      " \n",
      " \n",
      " \n",
      " \n",
      " \n",
      " \n",
      " \n",
      " \n",
      " \n",
      " \n",
      " \n",
      " \n",
      " \n",
      " \n",
      " \n",
      " \n",
      " \n",
      " \n",
      " \n",
      " \n",
      " \n",
      " \n",
      " \n",
      " \n",
      " \n",
      " \n",
      " \n",
      " \n",
      " \n",
      " \n",
      " \n",
      " \n",
      " \n",
      " \n",
      " \n",
      " \n",
      " \n",
      " \n",
      " \n"
     ]
    },
    {
     "name": "stderr",
     "output_type": "stream",
     "text": [
      "A:\\Users\\mtthl\\Documents\\Education\\ME5653_CFD\\git\\me5653_CFD_repo\\code\\lib\\distributedObjects.py:791: SparseEfficiencyWarning: spsolve requires A be CSC or CSR matrix format\n",
      "  cls.u[i+1,:] = spsr.linalg.spsolve( cls.A_matrix , cls.b[i,...] )\n"
     ]
    }
   ],
   "source": [
    "burger_1a.solve( N_spatialorder=6 , N_spatialBCorder=5 )\n"
   ]
  },
  {
   "cell_type": "code",
   "execution_count": 12,
   "metadata": {},
   "outputs": [
    {
     "data": {
      "image/png": "[encoded data removed]",
      "text/plain": [
       "<Figure size 640x480 with 2 Axes>"
      ]
     },
     "metadata": {},
     "output_type": "display_data"
    }
   ],
   "source": [
    "x = burger_1a.x\n",
    "y = burger_1a.t\n",
    "X , Y = np.meshgrid( x , y )\n",
    "\n",
    "Z = burger_1a.u\n",
    "\n",
    "levels=np.linspace( np.min(u_exact) , np.max(u_exact) , 25 )\n",
    "contour = plt.contourf( X , Y , Z , levels=levels )\n",
    "\n",
    "plt.title( \"Numerical Solution for Burgers Equation\" )\n",
    "plt.xlabel( \"x\" )\n",
    "plt.ylabel( \"t\" )\n",
    "\n",
    "cbar = plt.colorbar( contour )\n",
    "cbar.set_label( \"u\" )\n",
    "\n",
    "plt.show()\n"
   ]
  },
  {
   "cell_type": "markdown",
   "metadata": {},
   "source": [
    "I really do not know what is going on at the end there. I've been working through the RHS boundary condition and it keeps doing this for reasons unknown to me, but this gets solved by reducing the CFL, so I am going to move on.\n",
    "\n",
    "Our next step is to look at the error vs the exact solution. I will need to re-calculate the exact solution for our actual domain here.\n"
   ]
  },
  {
   "cell_type": "code",
   "execution_count": 13,
   "metadata": {},
   "outputs": [],
   "source": [
    "u_exact = np.zeros( ( len(burger_1a.x) , len(burger_1a.t) ) )\n",
    "\n",
    "for i , t in enumerate( burger_1a.t ):\n",
    "    if i>0:\n",
    "        u_exact[:,i] = - U * np.tanh( k * ( burger_1a.x + u_exact[:,i-1] * t ) )\n",
    "    else:\n",
    "        u_exact[:,i] = - U * np.tanh( k * burger_1a.x )\n"
   ]
  },
  {
   "cell_type": "code",
   "execution_count": 14,
   "metadata": {},
   "outputs": [],
   "source": [
    "error = u_exact.T - burger_1a.u\n",
    "error_L2 = np.linalg.norm( error ) / np.prod(np.shape(error))\n"
   ]
  },
  {
   "cell_type": "code",
   "execution_count": 15,
   "metadata": {},
   "outputs": [
    {
     "data": {
      "image/png": "[encoded data removed]",
      "text/plain": [
       "<Figure size 640x480 with 2 Axes>"
      ]
     },
     "metadata": {},
     "output_type": "display_data"
    }
   ],
   "source": [
    "x = burger_1a.x\n",
    "y = burger_1a.t\n",
    "X , Y = np.meshgrid( x , y )\n",
    "\n",
    "Z = error\n",
    "\n",
    "levels=np.linspace( np.min(error) , np.max(error) , 25 )\n",
    "contour = plt.contourf( X , Y , Z , levels=levels )\n",
    "\n",
    "plt.title( \"Error of Solution for Burgers Equation\" )\n",
    "plt.xlabel( \"x\" )\n",
    "plt.ylabel( \"t\" )\n",
    "\n",
    "cbar = plt.colorbar( contour )\n",
    "cbar.set_label( \"u\" )\n",
    "\n",
    "plt.show()\n",
    "\n"
   ]
  },
  {
   "cell_type": "code",
   "execution_count": 16,
   "metadata": {},
   "outputs": [
    {
     "name": "stdout",
     "output_type": "stream",
     "text": [
      "The RMS of the error is 3.156e-03\n"
     ]
    }
   ],
   "source": [
    "print(\"The RMS of the error is {x:.3e}\".format(x=error_L2))\n",
    "error_L2s_a=[error_L2]\n"
   ]
  },
  {
   "cell_type": "markdown",
   "metadata": {},
   "source": [
    "It appears that the exact and numerical solution are in fairly good agreement with the exception of the RHS boundary towards the end of the time being sampled.\n",
    "\n",
    "We can next do the same analysis for $k=5$.\n"
   ]
  },
  {
   "cell_type": "code",
   "execution_count": 17,
   "metadata": {},
   "outputs": [],
   "source": [
    "k=5\n"
   ]
  },
  {
   "cell_type": "code",
   "execution_count": 18,
   "metadata": {},
   "outputs": [],
   "source": [
    "u_exact = np.zeros( ( len(x_domain) , len(t_domain) ) )\n",
    "\n",
    "for i , t in enumerate( t_domain ):\n",
    "    if i>0:\n",
    "        u_exact[:,i] = - U * np.tanh( k * ( x_domain + u_exact[:,i-1] * t ) )\n",
    "    else:\n",
    "        u_exact[:,i] = - U * np.tanh( k * x_domain )\n"
   ]
  },
  {
   "cell_type": "code",
   "execution_count": 19,
   "metadata": {},
   "outputs": [
    {
     "data": {
      "image/png": "[encoded data removed]",
      "text/plain": [
       "<Figure size 640x480 with 2 Axes>"
      ]
     },
     "metadata": {},
     "output_type": "display_data"
    }
   ],
   "source": [
    "x = x_domain\n",
    "y = t_domain\n",
    "X , Y = np.meshgrid( x , y )\n",
    "\n",
    "Z = u_exact\n",
    "\n",
    "levels=np.linspace( np.min(u_exact) , np.max(u_exact) , 25 )\n",
    "contour = plt.contourf( X.T , Y.T , Z , levels=levels )\n",
    "\n",
    "plt.title( \"Exact Solution for Burgers Equation\" )\n",
    "plt.xlabel( \"x\" )\n",
    "plt.ylabel( \"t\" )\n",
    "\n",
    "cbar = plt.colorbar( contour )\n",
    "cbar.set_label( \"u\" )\n",
    "\n",
    "plt.show()\n"
   ]
  },
  {
   "cell_type": "markdown",
   "metadata": {},
   "source": [
    "There appears to be some odd phenomenon on the LHS of the domain with a Taylor vortex-like alternating behavior. I am unsure how this will affect the numerical solution.\n"
   ]
  },
  {
   "cell_type": "code",
   "execution_count": 20,
   "metadata": {},
   "outputs": [],
   "source": [
    "CFL = 0.8\n",
    "\n",
    "burger_1b = burgersEquation( x_domain , u_exact[:,0] , ( np.min( t_domain ) , np.max( t_domain ) ) , C = CFL/np.max(np.abs(u_exact)) )\n"
   ]
  },
  {
   "cell_type": "code",
   "execution_count": 21,
   "metadata": {},
   "outputs": [
    {
     "name": "stdout",
     "output_type": "stream",
     "text": [
      " \n",
      " \n",
      " \n",
      " \n",
      " \n",
      " \n",
      " \n",
      " \n",
      " \n",
      " \n",
      " \n",
      " \n",
      " \n",
      " \n",
      " \n",
      " \n",
      " \n",
      " \n",
      " \n",
      " \n",
      " \n",
      " \n",
      " \n",
      " \n",
      " \n",
      " \n",
      " \n",
      " \n",
      " \n",
      " \n",
      " \n",
      " \n",
      " \n",
      " \n",
      " \n",
      " \n",
      " \n",
      " \n",
      " \n",
      " \n",
      " \n",
      " \n",
      " \n",
      " \n",
      " \n",
      " \n",
      " \n",
      " \n",
      " \n",
      " \n",
      " \n",
      " \n",
      " \n",
      " \n",
      " \n",
      " \n",
      " \n",
      " \n",
      " \n",
      " \n",
      " \n",
      " \n",
      " \n",
      " \n",
      " \n",
      " \n",
      " \n",
      " \n",
      " \n",
      " \n",
      " \n",
      " \n",
      " \n",
      " \n",
      " \n",
      " \n",
      " \n",
      " \n",
      " \n",
      " \n",
      " \n",
      " \n",
      " \n",
      " \n",
      " \n",
      " \n",
      " \n",
      " \n",
      " \n",
      " \n",
      " \n",
      " \n",
      " \n",
      " \n",
      " \n",
      " \n",
      " \n",
      " \n",
      " \n",
      " \n",
      " \n",
      " \n",
      " \n",
      " \n",
      " \n",
      " \n",
      " \n",
      " \n",
      " \n",
      " \n",
      " \n",
      " \n",
      " \n",
      " \n",
      " \n",
      " \n",
      " \n",
      " \n",
      " \n",
      " \n",
      " \n",
      " \n",
      " \n",
      " \n",
      " \n",
      " \n",
      " \n",
      " \n",
      " \n"
     ]
    }
   ],
   "source": [
    "burger_1b.solve( N_spatialorder=6 , N_spatialBCorder=5 )\n"
   ]
  },
  {
   "cell_type": "code",
   "execution_count": 22,
   "metadata": {},
   "outputs": [
    {
     "data": {
      "image/png": "[encoded data removed]",
      "text/plain": [
       "<Figure size 640x480 with 2 Axes>"
      ]
     },
     "metadata": {},
     "output_type": "display_data"
    }
   ],
   "source": [
    "x = burger_1b.x\n",
    "y = burger_1b.t\n",
    "X , Y = np.meshgrid( x , y )\n",
    "\n",
    "Z = burger_1b.u\n",
    "\n",
    "levels=np.linspace( np.min(u_exact) , np.max(u_exact) , 25 )\n",
    "contour = plt.contourf( X , Y , Z , levels=levels )\n",
    "\n",
    "plt.title( \"Numerical Solution for Burgers Equation\" )\n",
    "plt.xlabel( \"x\" )\n",
    "plt.ylabel( \"t\" )\n",
    "\n",
    "cbar = plt.colorbar( contour )\n",
    "cbar.set_label( \"u\" )\n",
    "\n",
    "plt.show()\n"
   ]
  },
  {
   "cell_type": "markdown",
   "metadata": {},
   "source": [
    "It appears that our issues on the RHS boundary is still causing issues. I am really unsure what is causing this. The RHS boundary is a gradient of the internal order that changes the template to adjust to the available points. This was the most sound calculation I could think of.\n"
   ]
  },
  {
   "cell_type": "code",
   "execution_count": 23,
   "metadata": {},
   "outputs": [],
   "source": [
    "u_exact = np.zeros( ( len(burger_1b.x) , len(burger_1b.t) ) )\n",
    "\n",
    "for i , t in enumerate( burger_1b.t ):\n",
    "    if i>0:\n",
    "        u_exact[:,i] = - U * np.tanh( k * ( burger_1b.x + u_exact[:,i-1] * t ) )\n",
    "    else:\n",
    "        u_exact[:,i] = - U * np.tanh( k * burger_1b.x )\n"
   ]
  },
  {
   "cell_type": "code",
   "execution_count": 24,
   "metadata": {},
   "outputs": [],
   "source": [
    "error = u_exact.T - burger_1b.u\n",
    "error_L2 = np.linalg.norm( error ) / np.prod(np.shape(error))\n"
   ]
  },
  {
   "cell_type": "code",
   "execution_count": 25,
   "metadata": {},
   "outputs": [
    {
     "data": {
      "image/png": "[encoded data removed]",
      "text/plain": [
       "<Figure size 640x480 with 2 Axes>"
      ]
     },
     "metadata": {},
     "output_type": "display_data"
    }
   ],
   "source": [
    "x = burger_1b.x\n",
    "y = burger_1b.t\n",
    "X , Y = np.meshgrid( x , y )\n",
    "\n",
    "Z = error\n",
    "\n",
    "levels=np.linspace( np.min(error) , np.max(error) , 25 )\n",
    "contour = plt.contourf( X , Y , Z , levels=levels )\n",
    "\n",
    "plt.title( \"Error of Solution for Burgers Equation\" )\n",
    "plt.xlabel( \"x\" )\n",
    "plt.ylabel( \"t\" )\n",
    "\n",
    "cbar = plt.colorbar( contour )\n",
    "cbar.set_label( \"u\" )\n",
    "\n",
    "plt.show()\n"
   ]
  },
  {
   "cell_type": "code",
   "execution_count": 26,
   "metadata": {},
   "outputs": [
    {
     "name": "stdout",
     "output_type": "stream",
     "text": [
      "The RMS of the error is 2.747e-02\n"
     ]
    }
   ],
   "source": [
    "print(\"The RMS of the error is {x:.3e}\".format(x=error_L2))\n",
    "error_L2s_b=[error_L2]\n"
   ]
  },
  {
   "cell_type": "markdown",
   "metadata": {},
   "source": [
    "The next task is to look at the convergence analysis by doing a 3-grid Richardson analysis.\n",
    "\n",
    "First, let's look at k=1 for (2x) more grids.\n"
   ]
  },
  {
   "cell_type": "markdown",
   "metadata": {},
   "source": [
    "There is clearly much more error in this solution, which we can see from the plot primarily comes from that checkerboard-like pattern from the above plot.\n"
   ]
  },
  {
   "cell_type": "code",
   "execution_count": 27,
   "metadata": {},
   "outputs": [],
   "source": [
    "N_x = int(20)\n",
    "N_t = int(20)\n",
    "x_domain = np.linspace( 0 , 1 , num=N_x )\n",
    "t_domain = np.linspace( 0 , 1 , num=N_t )\n",
    "k = 1\n"
   ]
  },
  {
   "cell_type": "code",
   "execution_count": 28,
   "metadata": {},
   "outputs": [],
   "source": [
    "u_exact = np.zeros( ( len(x_domain) , len(t_domain) ) )\n",
    "\n",
    "for i , t in enumerate( t_domain ):\n",
    "    if i>0:\n",
    "        u_exact[:,i] = - U * np.tanh( k * ( x_domain + u_exact[:,i-1] * t ) )\n",
    "    else:\n",
    "        u_exact[:,i] = - U * np.tanh( k * x_domain )\n"
   ]
  },
  {
   "cell_type": "code",
   "execution_count": 29,
   "metadata": {},
   "outputs": [],
   "source": [
    "CFL = 0.8\n",
    "\n",
    "burger_1aa = burgersEquation( x_domain , u_exact[:,0] , ( np.min( t_domain ) , np.max( t_domain ) ) , C = CFL/np.max(np.abs(u_exact)) )\n"
   ]
  },
  {
   "cell_type": "code",
   "execution_count": 30,
   "metadata": {},
   "outputs": [
    {
     "name": "stdout",
     "output_type": "stream",
     "text": [
      " \n",
      " \n",
      " \n",
      " \n",
      " \n",
      " \n",
      " \n",
      " \n",
      " \n",
      " \n",
      " \n",
      " \n",
      " \n",
      " \n",
      " \n",
      " \n",
      " \n",
      " \n",
      " \n",
      " \n",
      " \n",
      " \n",
      " \n",
      " \n",
      " \n",
      " \n",
      " \n",
      " \n",
      " \n",
      " \n",
      " \n",
      " \n",
      " \n",
      " \n",
      " \n",
      " \n",
      " \n",
      " \n",
      " \n",
      " \n",
      " \n",
      " \n",
      " \n",
      " \n",
      " \n",
      " \n",
      " \n",
      " \n",
      " \n",
      " \n",
      " \n",
      " \n",
      " \n",
      " \n",
      " \n",
      " \n",
      " \n",
      " \n",
      " \n",
      " \n",
      " \n",
      " \n",
      " \n",
      " \n",
      " \n",
      " \n",
      " \n",
      " \n",
      " \n",
      " \n",
      " \n",
      " \n",
      " \n",
      " \n",
      " \n",
      " \n",
      " \n",
      " \n",
      " \n",
      " \n",
      " \n",
      " \n",
      " \n",
      " \n",
      " \n",
      " \n",
      " \n",
      " \n",
      " \n",
      " \n",
      " \n",
      " \n",
      " \n",
      " \n",
      " \n",
      " \n",
      " \n",
      " \n",
      " \n",
      " \n",
      " \n",
      " \n",
      " \n",
      " \n",
      " \n",
      " \n",
      " \n",
      " \n",
      " \n",
      " \n",
      " \n",
      " \n",
      " \n",
      " \n",
      " \n",
      " \n",
      " \n",
      " \n",
      " \n",
      " \n",
      " \n",
      " \n",
      " \n",
      " \n",
      " \n",
      " \n",
      " \n",
      " \n",
      " \n"
     ]
    }
   ],
   "source": [
    "burger_1aa.solve( N_spatialorder=6 , N_spatialBCorder=5 )\n"
   ]
  },
  {
   "cell_type": "code",
   "execution_count": 31,
   "metadata": {},
   "outputs": [],
   "source": [
    "u_exact = np.zeros( ( len(burger_1aa.x) , len(burger_1aa.t) ) )\n",
    "\n",
    "for i , t in enumerate( burger_1aa.t ):\n",
    "    if i>0:\n",
    "        u_exact[:,i] = - U * np.tanh( k * ( burger_1aa.x + u_exact[:,i-1] * t ) )\n",
    "    else:\n",
    "        u_exact[:,i] = - U * np.tanh( k * burger_1aa.x )\n"
   ]
  },
  {
   "cell_type": "code",
   "execution_count": 32,
   "metadata": {},
   "outputs": [],
   "source": [
    "error = u_exact.T - burger_1aa.u\n",
    "error_L2 = np.linalg.norm( error ) / np.prod(np.shape(error))\n"
   ]
  },
  {
   "cell_type": "code",
   "execution_count": 33,
   "metadata": {},
   "outputs": [
    {
     "name": "stdout",
     "output_type": "stream",
     "text": [
      "The RMS of the error is 2.626e-03\n"
     ]
    }
   ],
   "source": [
    "print(\"The RMS of the error is {x:.3e}\".format(x=error_L2))\n",
    "error_L2s_a+=[error_L2]"
   ]
  },
  {
   "cell_type": "code",
   "execution_count": 34,
   "metadata": {},
   "outputs": [],
   "source": [
    "N_x = int(40)\n",
    "N_t = int(20)\n",
    "x_domain = np.linspace( 0 , 1 , num=N_x )\n",
    "t_domain = np.linspace( 0 , 1 , num=N_t )\n",
    "k = 1\n"
   ]
  },
  {
   "cell_type": "code",
   "execution_count": 35,
   "metadata": {},
   "outputs": [],
   "source": [
    "u_exact = np.zeros( ( len(x_domain) , len(t_domain) ) )\n",
    "\n",
    "for i , t in enumerate( t_domain ):\n",
    "    if i>0:\n",
    "        u_exact[:,i] = - U * np.tanh( k * ( x_domain + u_exact[:,i-1] * t ) )\n",
    "    else:\n",
    "        u_exact[:,i] = - U * np.tanh( k * x_domain )\n"
   ]
  },
  {
   "cell_type": "code",
   "execution_count": 36,
   "metadata": {},
   "outputs": [],
   "source": [
    "CFL = 0.8\n",
    "\n",
    "burger_1aaa = burgersEquation( x_domain , u_exact[:,0] , ( np.min( t_domain ) , np.max( t_domain ) ) , C = CFL/np.max(np.abs(u_exact)) )\n"
   ]
  },
  {
   "cell_type": "code",
   "execution_count": 37,
   "metadata": {},
   "outputs": [
    {
     "name": "stdout",
     "output_type": "stream",
     "text": [
      " \n",
      " \n",
      " \n",
      " \n",
      " \n",
      " \n",
      " \n",
      " \n",
      " \n",
      " \n",
      " \n",
      " \n",
      " \n",
      " \n",
      " \n",
      " \n",
      " \n",
      " \n",
      " \n",
      " \n",
      " \n",
      " \n",
      " \n",
      " \n",
      " \n",
      " \n",
      " \n",
      " \n",
      " \n",
      " \n",
      " \n",
      " \n",
      " \n",
      " \n",
      " \n",
      " \n",
      " \n",
      " \n",
      " \n",
      " \n",
      " \n",
      " \n",
      " \n",
      " \n",
      " \n",
      " \n",
      " \n",
      " \n",
      " \n",
      " \n",
      " \n",
      " \n",
      " \n",
      " \n",
      " \n",
      " \n",
      " \n",
      " \n",
      " \n",
      " \n",
      " \n",
      " \n",
      " \n",
      " \n",
      " \n",
      " \n",
      " \n",
      " \n",
      " \n",
      " \n",
      " \n",
      " \n",
      " \n",
      " \n",
      " \n",
      " \n",
      " \n",
      " \n",
      " \n",
      " \n",
      " \n",
      " \n",
      " \n",
      " \n",
      " \n",
      " \n",
      " \n",
      " \n",
      " \n",
      " \n",
      " \n",
      " \n",
      " \n",
      " \n",
      " \n",
      " \n",
      " \n",
      " \n",
      " \n",
      " \n",
      " \n",
      " \n",
      " \n",
      " \n",
      " \n",
      " \n",
      " \n",
      " \n",
      " \n",
      " \n",
      " \n",
      " \n",
      " \n",
      " \n",
      " \n",
      " \n",
      " \n",
      " \n",
      " \n",
      " \n",
      " \n",
      " \n",
      " \n",
      " \n",
      " \n",
      " \n",
      " \n",
      " \n",
      " \n"
     ]
    }
   ],
   "source": [
    "burger_1aaa.solve( N_spatialorder=6 , N_spatialBCorder=5 )\n"
   ]
  },
  {
   "cell_type": "code",
   "execution_count": 38,
   "metadata": {},
   "outputs": [],
   "source": [
    "u_exact = np.zeros( ( len(burger_1aaa.x) , len(burger_1aaa.t) ) )\n",
    "\n",
    "for i , t in enumerate( burger_1aa.t ):\n",
    "    if i>0:\n",
    "        u_exact[:,i] = - U * np.tanh( k * ( burger_1aaa.x + u_exact[:,i-1] * t ) )\n",
    "    else:\n",
    "        u_exact[:,i] = - U * np.tanh( k * burger_1aaa.x )\n"
   ]
  },
  {
   "cell_type": "code",
   "execution_count": 39,
   "metadata": {},
   "outputs": [],
   "source": [
    "error = u_exact.T - burger_1aaa.u\n",
    "error_L2 = np.linalg.norm( error ) / np.prod(np.shape(error))\n"
   ]
  },
  {
   "cell_type": "code",
   "execution_count": 40,
   "metadata": {},
   "outputs": [
    {
     "name": "stdout",
     "output_type": "stream",
     "text": [
      "The RMS of the error is 5.221e-03\n"
     ]
    }
   ],
   "source": [
    "print(\"The RMS of the error is {x:.3e}\".format(x=error_L2))\n",
    "error_L2s_a+=[error_L2]\n"
   ]
  },
  {
   "cell_type": "code",
   "execution_count": 41,
   "metadata": {},
   "outputs": [],
   "source": [
    "dxs_a = [ burger_1a.dx , burger_1aa.dx , burger_1aaa.dx ]"
   ]
  },
  {
   "cell_type": "code",
   "execution_count": 42,
   "metadata": {},
   "outputs": [],
   "source": [
    "k=5\n"
   ]
  },
  {
   "cell_type": "code",
   "execution_count": 43,
   "metadata": {},
   "outputs": [],
   "source": [
    "N_x = int(20)\n",
    "N_t = int(20)\n",
    "x_domain = np.linspace( 0 , 1 , num=N_x )\n",
    "t_domain = np.linspace( 0 , 1 , num=N_t )\n"
   ]
  },
  {
   "cell_type": "code",
   "execution_count": 44,
   "metadata": {},
   "outputs": [],
   "source": [
    "u_exact = np.zeros( ( len(x_domain) , len(t_domain) ) )\n",
    "\n",
    "for i , t in enumerate( t_domain ):\n",
    "    if i>0:\n",
    "        u_exact[:,i] = - U * np.tanh( k * ( x_domain + u_exact[:,i-1] * t ) )\n",
    "    else:\n",
    "        u_exact[:,i] = - U * np.tanh( k * x_domain )\n"
   ]
  },
  {
   "cell_type": "code",
   "execution_count": 45,
   "metadata": {},
   "outputs": [],
   "source": [
    "CFL = 0.8\n",
    "\n",
    "burger_1bb = burgersEquation( x_domain , u_exact[:,0] , ( np.min( t_domain ) , np.max( t_domain ) ) , C = CFL/np.max(np.abs(u_exact)) )\n"
   ]
  },
  {
   "cell_type": "code",
   "execution_count": 46,
   "metadata": {},
   "outputs": [
    {
     "name": "stdout",
     "output_type": "stream",
     "text": [
      " \n",
      " \n",
      " \n",
      " \n",
      " \n",
      " \n",
      " \n",
      " \n",
      " \n",
      " \n",
      " \n",
      " \n",
      " \n",
      " \n",
      " \n",
      " \n",
      " \n",
      " \n",
      " \n",
      " \n",
      " \n",
      " \n",
      " \n",
      " \n",
      " \n",
      " \n",
      " \n",
      " \n",
      " \n",
      " \n",
      " \n",
      " \n",
      " \n",
      " \n",
      " \n",
      " \n",
      " \n",
      " \n",
      " \n",
      " \n",
      " \n",
      " \n",
      " \n",
      " \n",
      " \n",
      " \n",
      " \n",
      " \n",
      " \n",
      " \n",
      " \n",
      " \n",
      " \n",
      " \n",
      " \n",
      " \n",
      " \n",
      " \n",
      " \n",
      " \n",
      " \n",
      " \n",
      " \n",
      " \n",
      " \n",
      " \n",
      " \n",
      " \n",
      " \n",
      " \n",
      " \n",
      " \n",
      " \n",
      " \n",
      " \n",
      " \n",
      " \n",
      " \n",
      " \n",
      " \n",
      " \n",
      " \n",
      " \n",
      " \n",
      " \n",
      " \n",
      " \n",
      " \n",
      " \n",
      " \n",
      " \n",
      " \n",
      " \n",
      " \n",
      " \n",
      " \n",
      " \n",
      " \n",
      " \n",
      " \n",
      " \n",
      " \n",
      " \n",
      " \n",
      " \n",
      " \n",
      " \n",
      " \n",
      " \n",
      " \n",
      " \n",
      " \n",
      " \n",
      " \n",
      " \n",
      " \n",
      " \n",
      " \n",
      " \n",
      " \n",
      " \n",
      " \n",
      " \n",
      " \n",
      " \n",
      " \n",
      " \n",
      " \n",
      " \n"
     ]
    }
   ],
   "source": [
    "burger_1bb.solve( N_spatialorder=6 , N_spatialBCorder=5 )\n"
   ]
  },
  {
   "cell_type": "code",
   "execution_count": 47,
   "metadata": {},
   "outputs": [],
   "source": [
    "u_exact = np.zeros( ( len(burger_1bb.x) , len(burger_1bb.t) ) )\n",
    "\n",
    "for i , t in enumerate( burger_1bb.t ):\n",
    "    if i>0:\n",
    "        u_exact[:,i] = - U * np.tanh( k * ( burger_1bb.x + u_exact[:,i-1] * t ) )\n",
    "    else:\n",
    "        u_exact[:,i] = - U * np.tanh( k * burger_1bb.x )\n"
   ]
  },
  {
   "cell_type": "code",
   "execution_count": 48,
   "metadata": {},
   "outputs": [],
   "source": [
    "error = u_exact.T - burger_1bb.u\n",
    "error_L2 = np.linalg.norm( error ) / np.prod(np.shape(error))\n"
   ]
  },
  {
   "cell_type": "code",
   "execution_count": 49,
   "metadata": {},
   "outputs": [
    {
     "name": "stdout",
     "output_type": "stream",
     "text": [
      "The RMS of the error is 1.140e-02\n"
     ]
    }
   ],
   "source": [
    "print(\"The RMS of the error is {x:.3e}\".format(x=error_L2))\n",
    "error_L2s_b+=[error_L2]\n"
   ]
  },
  {
   "cell_type": "code",
   "execution_count": 50,
   "metadata": {},
   "outputs": [],
   "source": [
    "N_x = int(40)\n",
    "N_t = int(20)\n",
    "x_domain = np.linspace( 0 , 1 , num=N_x )\n",
    "t_domain = np.linspace( 0 , 1 , num=N_t )\n"
   ]
  },
  {
   "cell_type": "code",
   "execution_count": 51,
   "metadata": {},
   "outputs": [],
   "source": [
    "u_exact = np.zeros( ( len(x_domain) , len(t_domain) ) )\n",
    "\n",
    "for i , t in enumerate( t_domain ):\n",
    "    if i>0:\n",
    "        u_exact[:,i] = - U * np.tanh( k * ( x_domain + u_exact[:,i-1] * t ) )\n",
    "    else:\n",
    "        u_exact[:,i] = - U * np.tanh( k * x_domain )\n"
   ]
  },
  {
   "cell_type": "code",
   "execution_count": 52,
   "metadata": {},
   "outputs": [],
   "source": [
    "CFL = 0.8\n",
    "\n",
    "burger_1bbb = burgersEquation( x_domain , u_exact[:,0] , ( np.min( t_domain ) , np.max( t_domain ) ) , C = CFL/np.max(np.abs(u_exact)) )\n"
   ]
  },
  {
   "cell_type": "code",
   "execution_count": 53,
   "metadata": {},
   "outputs": [
    {
     "name": "stdout",
     "output_type": "stream",
     "text": [
      " \n",
      " \n",
      " \n",
      " \n",
      " \n",
      " \n",
      " \n",
      " \n",
      " \n",
      " \n",
      " \n",
      " \n",
      " \n",
      " \n",
      " \n",
      " \n",
      " \n",
      " \n",
      " \n",
      " \n",
      " \n",
      " \n",
      " \n",
      " \n",
      " \n",
      " \n",
      " \n",
      " \n",
      " \n",
      " \n",
      " \n",
      " \n",
      " \n",
      " \n",
      " \n",
      " \n",
      " \n",
      " \n",
      " \n",
      " \n",
      " \n",
      " \n",
      " \n",
      " \n",
      " \n",
      " \n",
      " \n",
      " \n",
      " \n",
      " \n",
      " \n",
      " \n",
      " \n",
      " \n",
      " \n",
      " \n",
      " \n",
      " \n",
      " \n",
      " \n",
      " \n",
      " \n",
      " \n",
      " \n",
      " \n",
      " \n",
      " \n",
      " \n",
      " \n",
      " \n",
      " \n",
      " \n",
      " \n",
      " \n",
      " \n",
      " \n",
      " \n",
      " \n",
      " \n",
      " \n",
      " \n",
      " \n",
      " \n",
      " \n",
      " \n",
      " \n",
      " \n",
      " \n",
      " \n",
      " \n",
      " \n",
      " \n",
      " \n",
      " \n",
      " \n",
      " \n",
      " \n",
      " \n",
      " \n",
      " \n",
      " \n",
      " \n",
      " \n",
      " \n",
      " \n",
      " \n",
      " \n",
      " \n",
      " \n",
      " \n",
      " \n",
      " \n",
      " \n",
      " \n",
      " \n",
      " \n",
      " \n",
      " \n",
      " \n",
      " \n",
      " \n",
      " \n",
      " \n",
      " \n",
      " \n",
      " \n",
      " \n",
      " \n",
      " \n"
     ]
    }
   ],
   "source": [
    "burger_1bbb.solve( N_spatialorder=6 , N_spatialBCorder=5 )\n"
   ]
  },
  {
   "cell_type": "code",
   "execution_count": 54,
   "metadata": {},
   "outputs": [],
   "source": [
    "u_exact = np.zeros( ( len(burger_1bbb.x) , len(burger_1bbb.t) ) )\n",
    "\n",
    "for i , t in enumerate( burger_1bbb.t ):\n",
    "    if i>0:\n",
    "        u_exact[:,i] = - U * np.tanh( k * ( burger_1bbb.x + u_exact[:,i-1] * t ) )\n",
    "    else:\n",
    "        u_exact[:,i] = - U * np.tanh( k * burger_1bbb.x )\n"
   ]
  },
  {
   "cell_type": "code",
   "execution_count": 55,
   "metadata": {},
   "outputs": [],
   "source": [
    "error = u_exact.T - burger_1bbb.u\n",
    "error_L2 = np.linalg.norm( error ) / np.prod(np.shape(error))\n"
   ]
  },
  {
   "cell_type": "code",
   "execution_count": 56,
   "metadata": {},
   "outputs": [
    {
     "name": "stdout",
     "output_type": "stream",
     "text": [
      "The RMS of the error is 5.974e-03\n"
     ]
    }
   ],
   "source": [
    "print(\"The RMS of the error is {x:.3e}\".format(x=error_L2))\n",
    "error_L2s_b+=[error_L2]\n",
    "\n",
    "dxs_b = dxs_a\n"
   ]
  },
  {
   "cell_type": "code",
   "execution_count": 57,
   "metadata": {},
   "outputs": [
    {
     "data": {
      "text/plain": [
       "<matplotlib.legend.Legend at 0x187526a5750>"
      ]
     },
     "execution_count": 57,
     "metadata": {},
     "output_type": "execute_result"
    },
    {
     "data": {
      "image/png": "[encoded data removed]",
      "text/plain": [
       "<Figure size 640x480 with 1 Axes>"
      ]
     },
     "metadata": {},
     "output_type": "display_data"
    }
   ],
   "source": [
    "plt.loglog( dxs_a , error_L2s_a , label=\"k=1\" )\n",
    "plt.loglog( dxs_b , error_L2s_b , label=\"k=5\" )\n",
    "\n",
    "x_trend=np.logspace(-1.5,-1,num=10)\n",
    "y_trend=(1e6)*(x_trend**6)\n",
    "plt.loglog( x_trend , y_trend , 'k', label=\"+6 Trendline\")\n",
    "\n",
    "plt.title(\"Convergence Plot\")\n",
    "plt.xlabel(\"dx\")\n",
    "plt.ylabel(\"L2 Error\")\n",
    "plt.legend(loc=\"best\")\n",
    "\n",
    "\n"
   ]
  },
  {
   "cell_type": "code",
   "execution_count": 58,
   "metadata": {},
   "outputs": [
    {
     "name": "stdout",
     "output_type": "stream",
     "text": [
      "Order of accuracy:\tnan\n"
     ]
    },
    {
     "name": "stderr",
     "output_type": "stream",
     "text": [
      "C:\\Users\\mtthl\\AppData\\Local\\Temp\\ipykernel_28088\\3949247662.py:1: RuntimeWarning: invalid value encountered in log\n",
      "  p_a = np.log( ( error_L2s_a[0] - error_L2s_a[1] ) / ( error_L2s_a[1] - error_L2s_a[2] ) ) / np.log(2)\n"
     ]
    }
   ],
   "source": [
    "p_a = np.log( ( error_L2s_a[0] - error_L2s_a[1] ) / ( error_L2s_a[1] - error_L2s_a[2] ) ) / np.log(2)\n",
    "print(\"Order of accuracy:\\t{x}\".format(x=p_a))\n"
   ]
  },
  {
   "cell_type": "markdown",
   "metadata": {},
   "source": [
    "Obviously, the smaller mesh case is throwing off the error calculation for the whole thing, so let's just do the calculation for the coarser meshes.\n"
   ]
  },
  {
   "cell_type": "code",
   "execution_count": 59,
   "metadata": {},
   "outputs": [
    {
     "name": "stdout",
     "output_type": "stream",
     "text": [
      "Order of accuracy:\t0.2653289293582423\n"
     ]
    }
   ],
   "source": [
    "p_a = np.log( error_L2s_a[0] / error_L2s_a[1] ) / np.log(2)\n",
    "print(\"Order of accuracy:\\t{x}\".format(x=p_a))\n"
   ]
  },
  {
   "cell_type": "markdown",
   "metadata": {},
   "source": [
    "That's not right... But I also think it has to do with just the RHS boundary.\n"
   ]
  },
  {
   "cell_type": "code",
   "execution_count": 60,
   "metadata": {},
   "outputs": [
    {
     "name": "stdout",
     "output_type": "stream",
     "text": [
      "Order of accuracy:\t1.5658717184717632\n"
     ]
    }
   ],
   "source": [
    "p_b = np.log( ( error_L2s_b[0] - error_L2s_b[1] ) / ( error_L2s_b[1] - error_L2s_b[2] ) ) / np.log(2)\n",
    "print(\"Order of accuracy:\\t{x}\".format(x=p_b))\n",
    "\n"
   ]
  },
  {
   "cell_type": "markdown",
   "metadata": {},
   "source": [
    "That is better, although not quite there. However, in this case we know from the exact solution that there is a lot of deviation.\n"
   ]
  },
  {
   "cell_type": "markdown",
   "metadata": {},
   "source": [
    "# Part (2)\n",
    "\n",
    "In this section, we will add a viscous term to allow the dissipation of the Burger's equation behavior.\n",
    "\n",
    "For a viscous term, on the RHS of the Burger's equation, there is a dissipation term, like what is the primary term in the Heat Equation. Thus, the Burger's equation becomes as below:\n",
    "\n",
    "$$ \\frac{\\partial u}{\\partial t} + u\\frac{\\partial u}{\\partial x}=\\nu\\frac{\\partial^{2}u}{\\partial t^{2}} $$\n",
    "\n",
    "For this spatial term, we will use the same stencil, which has the following coefficients:\n"
   ]
  },
  {
   "cell_type": "code",
   "execution_count": 61,
   "metadata": {},
   "outputs": [
    {
     "name": "stdout",
     "output_type": "stream",
     "text": [
      " \n",
      " \n",
      " \n",
      " \n",
      " \n",
      " \n",
      " \n",
      " \n",
      " \n",
      " \n",
      " \n",
      " \n",
      " \n",
      " \n",
      " \n",
      " \n",
      " \n",
      " \n",
      " \n",
      " \n",
      " \n",
      "The coefficient for the interior dissipation gradient are:\n",
      "\t[ 0.01111111 -0.15        1.5        -2.72222222  1.5        -0.15\n",
      "  0.01111111]\n"
     ]
    }
   ],
   "source": [
    "lax_vg_gradient = numericalGradient( 2 , ( 3 , 3 ) )\n",
    "print( \"The coefficient for the interior dissipation gradient are:\\n\\t\" + str( lax_vg_gradient.coeffs ) )\n"
   ]
  },
  {
   "cell_type": "code",
   "execution_count": 62,
   "metadata": {},
   "outputs": [
    {
     "name": "stdout",
     "output_type": "stream",
     "text": [
      " \n",
      " \n",
      " \n",
      " \n",
      " \n",
      " \n",
      " \n",
      " \n",
      " \n",
      " \n",
      " \n",
      " \n",
      " \n",
      " \n",
      " \n",
      " \n",
      " \n",
      " \n",
      " \n",
      " \n",
      " \n",
      "The coefficient for the LHS dissipation gradient are:\n",
      "\t[  4.51111111 -17.4         29.25       -28.22222222  16.5\n",
      "  -5.4          0.76111111]\n"
     ]
    }
   ],
   "source": [
    "lax_vg_gradient_LHS = numericalGradient( 2 , ( 0 , 6 ) )\n",
    "print( \"The coefficient for the LHS dissipation gradient are:\\n\\t\" + str( lax_vg_gradient_LHS.coeffs ) )\n"
   ]
  },
  {
   "cell_type": "code",
   "execution_count": 63,
   "metadata": {},
   "outputs": [
    {
     "name": "stdout",
     "output_type": "stream",
     "text": [
      " \n",
      " \n",
      " \n",
      " \n",
      " \n",
      " \n",
      " \n",
      " \n",
      " \n",
      " \n",
      " \n",
      " \n",
      " \n",
      " \n",
      " \n",
      " \n",
      " \n",
      " \n",
      " \n",
      " \n",
      " \n",
      "The coefficient for the LHS dissipation gradient are:\n",
      "\t[  0.76111111  -5.4         16.5        -28.22222222  29.25\n",
      " -17.4          4.51111111]\n"
     ]
    }
   ],
   "source": [
    "lax_vg_gradient_RHS = numericalGradient( 2 , ( 6 , 0 ) )\n",
    "print( \"The coefficient for the LHS dissipation gradient are:\\n\\t\" + str( lax_vg_gradient_RHS.coeffs ) )\n"
   ]
  },
  {
   "cell_type": "markdown",
   "metadata": {},
   "source": [
    "Thus, \n",
    "\n",
    "$ \\underline{\\text{Interior Points}} $:\n",
    "\n",
    "$$ \\frac{\\partial^{2}u}{\\partial t^{2}}=\\frac{ \\frac{1}{90}u_{i-3}-\\frac{3}{20}u_{i-2}+\\frac{3}{2}u_{i-1}-\\frac{49}{18}u_{i}+\\frac{3}{2}u_{i+1}-\\frac{3}{20}u_{i+2}+\\frac{1}{90}u_{i+3}  }{\\Delta x^{2}} $$\n",
    "\n",
    "$ \\underline{\\text{LHS Points}} $:\n",
    "\n",
    "$$ \\frac{\\partial^{2}u}{\\partial t^{2}}=\\frac{ \\frac{203}{45}u_{i}-\\frac{87}{5}u_{i+1}+\\frac{117}{4}u_{i+2}-\\frac{254}{9}u_{i+3}+\\frac{33}{2}u_{i+4}-\\frac{27}{5}u_{i+5}+\\frac{137}{180}u_{i+6}  }{\\Delta x^{2}} $$\n",
    "\n",
    "$ \\underline{\\text{RHS Points}} $:\n",
    "\n",
    "$$ \\frac{\\partial^{2}u}{\\partial t^{2}}=\\frac{ \\frac{137}{180}u_{i-6}-\\frac{27}{5}u_{i-5}+\\frac{33}{2}u_{i-4}-\\frac{254}{9}u_{i-3}+\\frac{117}{4}u_{i-2}-\\frac{87}{5}u_{i-1}+\\frac{203}{45}u_{i}  }{\\Delta x^{2}} $$\n"
   ]
  },
  {
   "cell_type": "markdown",
   "metadata": {},
   "source": [
    "Thus, the fully discretized Burger's equation becomes:\n",
    "\n",
    "$$ u^{n+1}_{i}= \\left( \\nu\\frac{1}{90}u^{n}_{i-3}-\\nu\\frac{3}{20}u^{n}_{i-2}+\\left(\\frac{1}{2}+\\nu\\frac{3}{2}\\right)u^{n}_{i-1}-\\nu\\frac{49}{18}u^{n}_{i}+\\left(\\frac{1}{2}+\\nu\\frac{3}{2}\\right)u^{n}_{i+1}-\\nu\\frac{3}{20}u^{n}_{i+2}+\\nu\\frac{1}{90}u^{n}_{i+3} \\right)+\\left(\\frac{\\Delta t}{\\Delta x}\\right)\\left( -\\frac{1}{60}v_{i-3}+\\frac{3}{20}v_{i-2}-\\frac{3}{4}v_{i-1}+\\frac{3}{4}v_{i+1}-\\frac{3}{20}v_{i+2}+\\frac{1}{60}v_{i+3} \\right) $$\n",
    "\n"
   ]
  },
  {
   "cell_type": "markdown",
   "metadata": {},
   "source": [
    "And thus, can be re-arranged in the following linear equation:\n",
    "\n",
    "$$ [1][u_{i}]^{n+1}= \\left( \\frac{1}{2}\\begin{bmatrix} 0 & 0 & 1 & 0 & 1 & 0 & 0 \\end{bmatrix}+\\nu\\begin{bmatrix} \\frac{1}{90} & -\\frac{3}{20} & \\frac{3}{2} & -\\frac{49}{18} & \\frac{3}{2} & -\\frac{3}{20} & \\frac{1}{90} \\end{bmatrix} \\right) \\begin{bmatrix} u_{i-3} & u_{i-2} & u_{i-1} & u_{i} & u_{i+1} & u_{i+2} & u_{i+3} \\end{bmatrix}^{T, n} + C \\begin{bmatrix} -\\frac{1}{60} & \\frac{3}{20} & -\\frac{3}{4} & 0 & \\frac{3}{4} & -\\frac{3}{20} & \\frac{1}{60} \\end{bmatrix} \\begin{bmatrix} v_{i-3} & v_{i-2} & v_{i-1} & v_{i} & v_{i+1} & v_{i+2} & v_{i+3} \\end{bmatrix}^{T , n}  $$\n"
   ]
  },
  {
   "cell_type": "code",
   "execution_count": 64,
   "metadata": {},
   "outputs": [],
   "source": [
    "N_x = int(10)\n",
    "N_t = int(90)\n",
    "x_domain = np.linspace( 0 , 1 , num=N_x )\n",
    "t_domain = np.linspace( 0 , 1 , num=N_t )\n",
    "\n",
    "u_0 = np.exp( - ( 2 * ( x_domain - 1 ) ) ** 2 )\n",
    "\n",
    "burger_2 = burgersEquation( x_domain , u_0 , (0,1) , C=0.1 , nu=0.01 )\n",
    "\n"
   ]
  },
  {
   "cell_type": "code",
   "execution_count": 65,
   "metadata": {},
   "outputs": [
    {
     "name": "stdout",
     "output_type": "stream",
     "text": [
      " \n",
      " \n",
      " \n",
      " \n",
      " \n",
      " \n",
      " \n",
      " \n",
      " \n",
      " \n",
      " \n",
      " \n",
      " \n",
      " \n",
      " \n",
      " \n",
      " \n",
      " \n",
      " \n",
      " \n",
      " \n",
      " \n",
      " \n",
      " \n",
      " \n",
      " \n",
      " \n",
      " \n",
      " \n",
      " \n",
      " \n",
      " \n",
      " \n",
      " \n",
      " \n",
      " \n",
      " \n",
      " \n",
      " \n",
      " \n",
      " \n",
      " \n"
     ]
    }
   ],
   "source": [
    "burger_2.solve( N_spatialorder=6 )\n"
   ]
  },
  {
   "cell_type": "code",
   "execution_count": 66,
   "metadata": {},
   "outputs": [
    {
     "data": {
      "image/png": "[encoded data removed]",
      "text/plain": [
       "<Figure size 640x480 with 2 Axes>"
      ]
     },
     "metadata": {},
     "output_type": "display_data"
    }
   ],
   "source": [
    "x = burger_2.x\n",
    "y = burger_2.t\n",
    "X , Y = np.meshgrid( x , y )\n",
    "\n",
    "Z = burger_2.u\n",
    "\n",
    "levels=np.linspace( 0 , 1 , 25 )\n",
    "contour = plt.contourf( X , Y , Z , levels=levels )\n",
    "\n",
    "plt.title( \"Numerical Solution for Viscous Burgers Equation\" )\n",
    "plt.xlabel( \"x\" )\n",
    "plt.ylabel( \"t\" )\n",
    "\n",
    "cbar = plt.colorbar( contour )\n",
    "cbar.set_label( \"u\" )\n",
    "\n",
    "plt.show()\n"
   ]
  },
  {
   "cell_type": "markdown",
   "metadata": {},
   "source": [
    "This is pretty cool looking. There is a very clear combination of convection, at the beginning, and diffusion, later on, behaviors present.\n",
    "\n",
    "Next, we will plot the mid-plane of the domain.\n"
   ]
  },
  {
   "cell_type": "code",
   "execution_count": 67,
   "metadata": {},
   "outputs": [
    {
     "data": {
      "image/png": "[encoded data removed]",
      "text/plain": [
       "<Figure size 640x480 with 1 Axes>"
      ]
     },
     "metadata": {},
     "output_type": "display_data"
    }
   ],
   "source": [
    "x = burger_2.t\n",
    "y = burger_2.u[:,burger_2.Nx//2]\n",
    "\n",
    "plt.plot( x , y )\n",
    "\n",
    "plt.xlabel(\"t [s]\")\n",
    "plt.ylabel(\"u [m/s]\")\n",
    "plt.title(\"Viscous Heat Equation Solve At Midplane\")\n",
    "\n",
    "plt.show()\n",
    "\n"
   ]
  },
  {
   "cell_type": "markdown",
   "metadata": {},
   "source": [
    "The convective behavior is not apparent from the midplane sample, which is interesting.\n",
    "\n"
   ]
  },
  {
   "cell_type": "code",
   "execution_count": 68,
   "metadata": {},
   "outputs": [
    {
     "data": {
      "text/plain": [
       "(90, 10)"
      ]
     },
     "execution_count": 68,
     "metadata": {},
     "output_type": "execute_result"
    }
   ],
   "source": [
    "np.shape(burger_2.u)\n"
   ]
  },
  {
   "cell_type": "markdown",
   "metadata": {},
   "source": [
    "# Part (3)\n",
    "\n",
    "In this part, we will be solving the Advection equation using two different solving methods. The test function will be a little unique.\n"
   ]
  },
  {
   "cell_type": "code",
   "execution_count": 73,
   "metadata": {},
   "outputs": [
    {
     "data": {
      "image/png": "[encoded data removed]",
      "text/plain": [
       "<Figure size 640x480 with 1 Axes>"
      ]
     },
     "metadata": {},
     "output_type": "display_data"
    }
   ],
   "source": [
    "N_x = int(100)\n",
    "x_domain = np.linspace( 0 , 50 , num=N_x )\n",
    "\n",
    "def testFunction( x ):\n",
    "\n",
    "    dx = np.mean( np.gradient( x ) )\n",
    "    u_0 = np.zeros_like( x )\n",
    "\n",
    "    # First region\n",
    "    u_0[(x>=8)&(x<=28)] = -1\n",
    "\n",
    "    # Second region\n",
    "    u_0[(x>28)&(x<=39)] = 1\n",
    "\n",
    "    u = 2 + u_0 * ( 1 + 0.3 * np.sin( 2 * np.pi * x / ( 9 * dx ) ) ) * ( 1 + 0.4 * np.sin( 2 * np.pi * x / ( 10 * dx ) ) )\n",
    "\n",
    "    return u\n",
    "\n",
    "u_0 = testFunction( x_domain )\n",
    "\n",
    "plt.plot( x_domain , u_0 )\n",
    "plt.xlabel(\"x [m]\")\n",
    "plt.ylabel(\"u [m/s]\")\n",
    "plt.title(\"Initial Conditions\")\n",
    "plt.show()\n",
    "\n"
   ]
  },
  {
   "cell_type": "markdown",
   "metadata": {},
   "source": [
    "I have not clue what this function is supposed to be, but this is about to get interesting.\n"
   ]
  },
  {
   "cell_type": "markdown",
   "metadata": {},
   "source": [
    "## (a): Upwind Method\n",
    "\n",
    "In this instance, we will be solving the Advection equation by the Upwind method, which"
   ]
  },
  {
   "cell_type": "markdown",
   "metadata": {},
   "source": []
  },
  {
   "cell_type": "markdown",
   "metadata": {},
   "source": []
  },
  {
   "cell_type": "markdown",
   "metadata": {},
   "source": [
    "# Works Cited\n",
    "\n",
    "1. Anderson, D. A., Tannehill, J. C., Pletcher, R. H., Munipalli, R., and Shankar, V. (2021). $ \\underline{\\text{Computational Fluid Mechanics and Heat Transfer}} $. 4th Edition. CRC Press.\n"
   ]
  },
  {
   "cell_type": "markdown",
   "metadata": {},
   "source": []
  }
 ],
 "metadata": {
  "kernelspec": {
   "display_name": "davinci",
   "language": "python",
   "name": "python3"
  },
  "language_info": {
   "codemirror_mode": {
    "name": "ipython",
    "version": 3
   },
   "file_extension": ".py",
   "mimetype": "text/x-python",
   "name": "python",
   "nbconvert_exporter": "python",
   "pygments_lexer": "ipython3",
   "version": "3.10.14"
  }
 },
 "nbformat": 4,
 "nbformat_minor": 2
}
