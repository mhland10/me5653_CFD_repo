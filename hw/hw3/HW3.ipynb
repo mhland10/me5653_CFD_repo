{
 "cells": [
  {
   "cell_type": "markdown",
   "metadata": {},
   "source": [
    "# Introduction\n",
    "\n",
    "In this Homework, we will be developing a solver that solves the Burger's equation, see inviscid form below.\n",
    "\n",
    "$$ \\frac{\\partial u}{\\partial t}+u\\frac{\\partial u}{\\partial x}=0 $$\n",
    "\n",
    "This form can also be re-written in flux form below, also in inviscid form.\n",
    "\n",
    "$$ \\frac{\\partial u}{\\partial t}+\\frac{1}{2}\\frac{\\partial u^{2}}{\\partial x}=0 $$\n"
   ]
  },
  {
   "cell_type": "code",
   "execution_count": 1,
   "metadata": {},
   "outputs": [],
   "source": [
    "import sys\n",
    "import os\n",
    "import time\n",
    "import numpy as np\n",
    "import matplotlib.pyplot as plt\n",
    "\n",
    "# Add the directory containing your module to sys.path\n",
    "module_path = os.path.abspath(os.path.join('..', r\"A:\\Users\\mtthl\\Documents\\Education\\ME5653_CFD\\git\\me5653_CFD_repo\\code\\lib\" ))\n",
    "sys.path.append(module_path)\n",
    "\n",
    "from distributedObjects import *\n",
    "from distributedFunctions import *\n"
   ]
  },
  {
   "cell_type": "markdown",
   "metadata": {},
   "source": [
    "# Part (1)\n",
    "\n",
    "The first part is to solve the Burger's equation using Lax method. The fundamental transformation that we need to understand to facilitate this method is that the term $\\frac{u^{2}}{2}$ is substituted by $v$. Thus, the Burger's equation takes the form of:\n",
    "\n",
    "$$ \\frac{\\partial u}{\\partial t}+\\frac{\\partial v}{\\partial x}=0 $$\n",
    "\n",
    "It is worth noting that $ \\underline{\\text{Computational Fluid Mechanics and Heat Transfer}} $ by Anderson et al. $^{[1]}$ use $F$ instead of $v$, so those two notations may be used interchangeably.\n",
    "\n",
    "Lax method in 1D takes 3x points for a stencil for the time gradient\n"
   ]
  },
  {
   "cell_type": "code",
   "execution_count": 2,
   "metadata": {},
   "outputs": [
    {
     "name": "stdout",
     "output_type": "stream",
     "text": [
      " \n",
      " \n",
      " \n",
      " \n",
      " \n",
      " \n",
      "The coefficients for the time gradient are:\t[-1.  1.]\n"
     ]
    }
   ],
   "source": [
    "lax_tg_gradient = numericalGradient( 1 , ( 1 , 0 ) )\n",
    "print( \"The coefficients for the time gradient are:\\t\" + str( lax_tg_gradient.coeffs ) )\n"
   ]
  },
  {
   "cell_type": "markdown",
   "metadata": {},
   "source": [
    "However, there is a slight modification in the method for the time gradient, which is that the previous time step is represented by the average of the two surrounding points. ie:\n",
    "\n",
    "$$ \\frac{\\partial u}{\\partial t} = \\frac{u^{n+1}_{i}- \\left( \\frac{u^{n}_{i+1}+u^{n}_{i-1}}{2} \\right)}{\\Delta t} $$\n"
   ]
  },
  {
   "cell_type": "markdown",
   "metadata": {},
   "source": [
    "Now, the spatial gradient is requested to be 6th order for the interior points, and 5th order for the boundary points.\n",
    "\n",
    "Thus, the interior points can be calculated.\n"
   ]
  },
  {
   "cell_type": "code",
   "execution_count": 3,
   "metadata": {},
   "outputs": [
    {
     "name": "stdout",
     "output_type": "stream",
     "text": [
      " \n",
      " \n",
      " \n",
      " \n",
      " \n",
      " \n",
      " \n",
      " \n",
      " \n",
      " \n",
      " \n",
      " \n",
      " \n",
      " \n",
      " \n",
      " \n",
      " \n",
      " \n",
      " \n",
      " \n",
      " \n",
      "The coefficient for the interior spatial gradient are:\n",
      "\t[-1.66666667e-02  1.50000000e-01 -7.50000000e-01  3.70074342e-16\n",
      "  7.50000000e-01 -1.50000000e-01  1.66666667e-02]\n"
     ]
    }
   ],
   "source": [
    "lax_sg_gradient = numericalGradient( 1 , ( 3 , 3 ) )\n",
    "print( \"The coefficient for the interior spatial gradient are:\\n\\t\" + str( lax_sg_gradient.coeffs ) )\n"
   ]
  },
  {
   "cell_type": "markdown",
   "metadata": {},
   "source": [
    "And the boundary points.\n"
   ]
  },
  {
   "cell_type": "code",
   "execution_count": 4,
   "metadata": {},
   "outputs": [
    {
     "name": "stdout",
     "output_type": "stream",
     "text": [
      " \n",
      " \n",
      " \n",
      " \n",
      " \n",
      " \n",
      " \n",
      " \n",
      " \n",
      " \n",
      " \n",
      " \n",
      " \n",
      " \n",
      " \n",
      " \n",
      " \n",
      " \n",
      "The coefficients for the LHS boundary spatial gradient are:\n",
      "\t[-2.28333333  5.         -5.          3.33333333 -1.25        0.2       ]\n"
     ]
    }
   ],
   "source": [
    "lax_sg_LHS_gradient = numericalGradient( 1 , ( 0 , 5 ) )\n",
    "print( \"The coefficients for the LHS boundary spatial gradient are:\\n\\t\" + str( lax_sg_LHS_gradient.coeffs ) )\n"
   ]
  },
  {
   "cell_type": "code",
   "execution_count": 5,
   "metadata": {},
   "outputs": [
    {
     "name": "stdout",
     "output_type": "stream",
     "text": [
      " \n",
      " \n",
      " \n",
      " \n",
      " \n",
      " \n",
      " \n",
      " \n",
      " \n",
      " \n",
      " \n",
      " \n",
      " \n",
      " \n",
      " \n",
      " \n",
      " \n",
      " \n",
      "The coefficients for the RHS boundary spatial gradient are:\n",
      "\t[-0.2         1.25       -3.33333333  5.         -5.          2.28333333]\n"
     ]
    }
   ],
   "source": [
    "lax_sg_RHS_gradient = numericalGradient( 1 , ( 5 , 0 ) )\n",
    "print( \"The coefficients for the RHS boundary spatial gradient are:\\n\\t\" + str( lax_sg_RHS_gradient.coeffs ) )\n"
   ]
  },
  {
   "cell_type": "markdown",
   "metadata": {},
   "source": [
    "Thus, from these results, the spatial gradients become\n",
    "\n",
    "$ \\underline{\\text{Interior Points}} $:\n",
    "\n",
    "$$ \\frac{\\partial v}{\\partial t}= \\frac{-\\frac{1}{60} v_{i-3}+\\frac{3}{20} v_{i-2}-\\frac{3}{4} v_{i-1}+\\frac{3}{4} v_{i+1}-\\frac{3}{20} v_{i+2}+\\frac{1}{60} v_{i+3}}{\\Delta x}$$\n",
    "\n",
    "$ \\underline{\\text{LHS points}} $:\n",
    "\n",
    "$$ \\frac{\\partial v}{\\partial t}= \\frac{-\\frac{137}{60} v_{i}+5 v_{i+1}-5 v_{i+2}+\\frac{10}{3} v_{i+3}-\\frac{5}{4} v_{i+4}+\\frac{1}{5} v_{i+5}}{\\Delta x} $$\n",
    "\n",
    "$ \\underline{\\text{RHS points}} $:\n",
    "\n",
    "$$ \\frac{\\partial v}{\\partial t}= \\frac{\\frac{137}{60} v_{i}-5 v_{i-1}+5 v_{i-2}-\\frac{10}{3} v_{i-3}+\\frac{5}{4} v_{i-4}-\\frac{1}{5} v_{i-5}}{\\Delta x} $$\n"
   ]
  },
  {
   "cell_type": "markdown",
   "metadata": {},
   "source": [
    "Re-arranging all these equations to get the unknowns on the left side and the knowns from the previous time step on the right side, we get for the interior points:\n",
    "\n",
    "$$ u^{n+1}_{i}=\\frac{1}{2}\\left(u^{n}_{i-1}+u^{n}_{i+1}\\right)+\\left(\\frac{\\Delta t}{\\Delta x}\\right)\\left( -\\frac{1}{60}v_{i-3}+\\frac{3}{20}v_{i-2}-\\frac{3}{4}v_{i-1}+\\frac{3}{4}v_{i+1}-\\frac{3}{20}v_{i+2}+\\frac{1}{60}v_{i+3} \\right) $$\n",
    "\n"
   ]
  },
  {
   "cell_type": "markdown",
   "metadata": {},
   "source": [
    "This forms the following linear equation:\n",
    "\n",
    "$$ [1][u_{i}]^{n+1}= \\frac{1}{2}\\begin{bmatrix} 1 & 0 & 1 \\end{bmatrix} \\begin{bmatrix} u_{i-1} & u_{i} & u_{i+1} \\end{bmatrix}^{T, n} + C \\begin{bmatrix} -\\frac{1}{60} & \\frac{3}{20} & -\\frac{3}{4} & 0 & \\frac{3}{4} & -\\frac{3}{20} & \\frac{1}{60} \\end{bmatrix} \\begin{bmatrix} v_{i-3} & v_{i-2} & v_{i-1} & v_{i} & v_{i+1} & v_{i+2} & v_{i+3} \\end{bmatrix}^{T , n}  $$\n",
    "\n",
    "Where $C=\\left(\\frac{\\Delta t}{\\Delta x}\\right) $, where $ CFL=Cu $\n",
    "\n"
   ]
  },
  {
   "cell_type": "markdown",
   "metadata": {},
   "source": [
    "To use this solver, we will first use an example problem of the following characteristic function:\n",
    "\n",
    "$$ u(x,t)=-U tanh(k(x-ut)) $$\n",
    "\n",
    "In this case, $x\\in(0,1)$, $k=1$, and since the domain of $t$ is not defined, $t\\in(0,1)$. There will be 1,000 x and t samples.\n"
   ]
  },
  {
   "cell_type": "code",
   "execution_count": 6,
   "metadata": {},
   "outputs": [],
   "source": [
    "N_x = int(20)\n",
    "N_t = int(20)\n",
    "x_domain = np.linspace( 0 , 1 , num=N_x )\n",
    "t_domain = np.linspace( 0 , 1 , num=N_t )\n",
    "k = 1\n"
   ]
  },
  {
   "cell_type": "markdown",
   "metadata": {},
   "source": [
    "And from this, we can set the characteristic function to be essentially non-dimensional to its maximum initial value by setting $U=1$.\n"
   ]
  },
  {
   "cell_type": "code",
   "execution_count": 7,
   "metadata": {},
   "outputs": [],
   "source": [
    "U = 1\n"
   ]
  },
  {
   "cell_type": "markdown",
   "metadata": {},
   "source": [
    "Thus, the exact solution becomes:\n"
   ]
  },
  {
   "cell_type": "code",
   "execution_count": 8,
   "metadata": {},
   "outputs": [],
   "source": [
    "u_exact = np.zeros( ( len(x_domain) , len(t_domain) ) )\n",
    "\n",
    "for i , t in enumerate( t_domain ):\n",
    "    if i>0:\n",
    "        u_exact[:,i] = - U * np.tanh( k * ( x_domain - u_exact[:,i-1] * t ) )\n",
    "    else:\n",
    "        u_exact[:,i] = - U * np.tanh( k * x_domain )\n"
   ]
  },
  {
   "cell_type": "code",
   "execution_count": 9,
   "metadata": {},
   "outputs": [
    {
     "data": {
      "image/png": "[encoded data removed]",
      "text/plain": [
       "<Figure size 640x480 with 2 Axes>"
      ]
     },
     "metadata": {},
     "output_type": "display_data"
    }
   ],
   "source": [
    "x = x_domain\n",
    "y = t_domain\n",
    "X , Y = np.meshgrid( x , y )\n",
    "\n",
    "Z = u_exact\n",
    "\n",
    "contour = plt.contourf( X , Y , Z )\n",
    "\n",
    "plt.title( \"Exact Solution for Burgers Equation\" )\n",
    "plt.xlabel( \"x\" )\n",
    "plt.ylabel( \"t\" )\n",
    "\n",
    "cbar = plt.colorbar( contour )\n",
    "cbar.set_label( \"u\" )\n",
    "\n",
    "plt.show()\n"
   ]
  },
  {
   "cell_type": "markdown",
   "metadata": {},
   "source": [
    "Now with the exact solution, we can find the numerical solution for $CFL=0.8$\n"
   ]
  },
  {
   "cell_type": "code",
   "execution_count": 10,
   "metadata": {},
   "outputs": [],
   "source": [
    "CFL = 0.8\n",
    "\n",
    "burger_1a = burgersEquation( x_domain , u_exact[:,0] , ( np.min( t_domain ) , np.max( t_domain ) ) , C = CFL / np.max( np.abs( u_exact ) ) )\n"
   ]
  },
  {
   "cell_type": "code",
   "execution_count": 11,
   "metadata": {},
   "outputs": [
    {
     "name": "stdout",
     "output_type": "stream",
     "text": [
      " \n",
      " \n",
      " \n",
      " \n",
      " \n",
      " \n",
      " \n",
      " \n",
      " \n",
      " \n",
      " \n",
      " \n",
      " \n",
      " \n",
      " \n",
      " \n",
      " \n",
      " \n",
      " \n",
      " \n",
      " \n"
     ]
    },
    {
     "name": "stderr",
     "output_type": "stream",
     "text": [
      "A:\\Users\\mtthl\\Documents\\Education\\ME5653_CFD\\git\\me5653_CFD_repo\\code\\lib\\distributedObjects.py:738: SparseEfficiencyWarning: spsolve requires A be CSC or CSR matrix format\n",
      "  cls.u[i+1,:] = spsr.linalg.spsolve( cls.A_matrix , cls.b[i,...] )\n",
      "A:\\Users\\mtthl\\Documents\\Education\\ME5653_CFD\\git\\me5653_CFD_repo\\code\\lib\\distributedObjects.py:732: RuntimeWarning: overflow encountered in square\n",
      "  cls.w[i,...] = (1/2) * ( cls.u[i,...] ** 2 )\n"
     ]
    }
   ],
   "source": [
    "burger_1a.solve( N_spatialorder=6 )\n"
   ]
  },
  {
   "cell_type": "code",
   "execution_count": 12,
   "metadata": {},
   "outputs": [
    {
     "data": {
      "text/plain": [
       "array([[1., 0., 0., 0., 0., 0., 0., 0., 0., 0., 0., 0., 0., 0., 0., 0.,\n",
       "        0., 0., 0., 0.],\n",
       "       [0., 1., 0., 0., 0., 0., 0., 0., 0., 0., 0., 0., 0., 0., 0., 0.,\n",
       "        0., 0., 0., 0.],\n",
       "       [0., 0., 1., 0., 0., 0., 0., 0., 0., 0., 0., 0., 0., 0., 0., 0.,\n",
       "        0., 0., 0., 0.],\n",
       "       [0., 0., 0., 1., 0., 0., 0., 0., 0., 0., 0., 0., 0., 0., 0., 0.,\n",
       "        0., 0., 0., 0.],\n",
       "       [0., 0., 0., 0., 1., 0., 0., 0., 0., 0., 0., 0., 0., 0., 0., 0.,\n",
       "        0., 0., 0., 0.],\n",
       "       [0., 0., 0., 0., 0., 1., 0., 0., 0., 0., 0., 0., 0., 0., 0., 0.,\n",
       "        0., 0., 0., 0.],\n",
       "       [0., 0., 0., 0., 0., 0., 1., 0., 0., 0., 0., 0., 0., 0., 0., 0.,\n",
       "        0., 0., 0., 0.],\n",
       "       [0., 0., 0., 0., 0., 0., 0., 1., 0., 0., 0., 0., 0., 0., 0., 0.,\n",
       "        0., 0., 0., 0.],\n",
       "       [0., 0., 0., 0., 0., 0., 0., 0., 1., 0., 0., 0., 0., 0., 0., 0.,\n",
       "        0., 0., 0., 0.],\n",
       "       [0., 0., 0., 0., 0., 0., 0., 0., 0., 1., 0., 0., 0., 0., 0., 0.,\n",
       "        0., 0., 0., 0.],\n",
       "       [0., 0., 0., 0., 0., 0., 0., 0., 0., 0., 1., 0., 0., 0., 0., 0.,\n",
       "        0., 0., 0., 0.],\n",
       "       [0., 0., 0., 0., 0., 0., 0., 0., 0., 0., 0., 1., 0., 0., 0., 0.,\n",
       "        0., 0., 0., 0.],\n",
       "       [0., 0., 0., 0., 0., 0., 0., 0., 0., 0., 0., 0., 1., 0., 0., 0.,\n",
       "        0., 0., 0., 0.],\n",
       "       [0., 0., 0., 0., 0., 0., 0., 0., 0., 0., 0., 0., 0., 1., 0., 0.,\n",
       "        0., 0., 0., 0.],\n",
       "       [0., 0., 0., 0., 0., 0., 0., 0., 0., 0., 0., 0., 0., 0., 1., 0.,\n",
       "        0., 0., 0., 0.],\n",
       "       [0., 0., 0., 0., 0., 0., 0., 0., 0., 0., 0., 0., 0., 0., 0., 1.,\n",
       "        0., 0., 0., 0.],\n",
       "       [0., 0., 0., 0., 0., 0., 0., 0., 0., 0., 0., 0., 0., 0., 0., 0.,\n",
       "        1., 0., 0., 0.],\n",
       "       [0., 0., 0., 0., 0., 0., 0., 0., 0., 0., 0., 0., 0., 0., 0., 0.,\n",
       "        0., 1., 0., 0.],\n",
       "       [0., 0., 0., 0., 0., 0., 0., 0., 0., 0., 0., 0., 0., 0., 0., 0.,\n",
       "        0., 0., 1., 0.],\n",
       "       [0., 0., 0., 0., 0., 0., 0., 0., 0., 0., 0., 0., 0., 0., 0., 0.,\n",
       "        0., 0., 0., 1.]])"
      ]
     },
     "execution_count": 12,
     "metadata": {},
     "output_type": "execute_result"
    }
   ],
   "source": [
    "burger_1a.A_matrix.toarray()\n"
   ]
  },
  {
   "cell_type": "code",
   "execution_count": 13,
   "metadata": {},
   "outputs": [
    {
     "data": {
      "text/plain": [
       "array([[1. , 0. , 0. , 0. , 0. , 0. , 0. , 0. , 0. , 0. , 0. , 0. , 0. ,\n",
       "        0. , 0. , 0. , 0. , 0. , 0. , 0. ],\n",
       "       [0.5, 0. , 0.5, 0. , 0. , 0. , 0. , 0. , 0. , 0. , 0. , 0. , 0. ,\n",
       "        0. , 0. , 0. , 0. , 0. , 0. , 0. ],\n",
       "       [0. , 0.5, 0. , 0.5, 0. , 0. , 0. , 0. , 0. , 0. , 0. , 0. , 0. ,\n",
       "        0. , 0. , 0. , 0. , 0. , 0. , 0. ],\n",
       "       [0. , 0. , 0.5, 0. , 0.5, 0. , 0. , 0. , 0. , 0. , 0. , 0. , 0. ,\n",
       "        0. , 0. , 0. , 0. , 0. , 0. , 0. ],\n",
       "       [0. , 0. , 0. , 0.5, 0. , 0.5, 0. , 0. , 0. , 0. , 0. , 0. , 0. ,\n",
       "        0. , 0. , 0. , 0. , 0. , 0. , 0. ],\n",
       "       [0. , 0. , 0. , 0. , 0.5, 0. , 0.5, 0. , 0. , 0. , 0. , 0. , 0. ,\n",
       "        0. , 0. , 0. , 0. , 0. , 0. , 0. ],\n",
       "       [0. , 0. , 0. , 0. , 0. , 0.5, 0. , 0.5, 0. , 0. , 0. , 0. , 0. ,\n",
       "        0. , 0. , 0. , 0. , 0. , 0. , 0. ],\n",
       "       [0. , 0. , 0. , 0. , 0. , 0. , 0.5, 0. , 0.5, 0. , 0. , 0. , 0. ,\n",
       "        0. , 0. , 0. , 0. , 0. , 0. , 0. ],\n",
       "       [0. , 0. , 0. , 0. , 0. , 0. , 0. , 0.5, 0. , 0.5, 0. , 0. , 0. ,\n",
       "        0. , 0. , 0. , 0. , 0. , 0. , 0. ],\n",
       "       [0. , 0. , 0. , 0. , 0. , 0. , 0. , 0. , 0.5, 0. , 0.5, 0. , 0. ,\n",
       "        0. , 0. , 0. , 0. , 0. , 0. , 0. ],\n",
       "       [0. , 0. , 0. , 0. , 0. , 0. , 0. , 0. , 0. , 0.5, 0. , 0.5, 0. ,\n",
       "        0. , 0. , 0. , 0. , 0. , 0. , 0. ],\n",
       "       [0. , 0. , 0. , 0. , 0. , 0. , 0. , 0. , 0. , 0. , 0.5, 0. , 0.5,\n",
       "        0. , 0. , 0. , 0. , 0. , 0. , 0. ],\n",
       "       [0. , 0. , 0. , 0. , 0. , 0. , 0. , 0. , 0. , 0. , 0. , 0.5, 0. ,\n",
       "        0.5, 0. , 0. , 0. , 0. , 0. , 0. ],\n",
       "       [0. , 0. , 0. , 0. , 0. , 0. , 0. , 0. , 0. , 0. , 0. , 0. , 0.5,\n",
       "        0. , 0.5, 0. , 0. , 0. , 0. , 0. ],\n",
       "       [0. , 0. , 0. , 0. , 0. , 0. , 0. , 0. , 0. , 0. , 0. , 0. , 0. ,\n",
       "        0.5, 0. , 0.5, 0. , 0. , 0. , 0. ],\n",
       "       [0. , 0. , 0. , 0. , 0. , 0. , 0. , 0. , 0. , 0. , 0. , 0. , 0. ,\n",
       "        0. , 0.5, 0. , 0.5, 0. , 0. , 0. ],\n",
       "       [0. , 0. , 0. , 0. , 0. , 0. , 0. , 0. , 0. , 0. , 0. , 0. , 0. ,\n",
       "        0. , 0. , 0.5, 0. , 0.5, 0. , 0. ],\n",
       "       [0. , 0. , 0. , 0. , 0. , 0. , 0. , 0. , 0. , 0. , 0. , 0. , 0. ,\n",
       "        0. , 0. , 0. , 0.5, 0. , 0.5, 0. ],\n",
       "       [0. , 0. , 0. , 0. , 0. , 0. , 0. , 0. , 0. , 0. , 0. , 0. , 0. ,\n",
       "        0. , 0. , 0. , 0. , 0.5, 0. , 0. ],\n",
       "       [0. , 0. , 0. , 0. , 0. , 0. , 0. , 0. , 0. , 0. , 0. , 0. , 0. ,\n",
       "        0. , 0. , 0. , 0. , 0. , 0. , 1. ]])"
      ]
     },
     "execution_count": 13,
     "metadata": {},
     "output_type": "execute_result"
    }
   ],
   "source": [
    "burger_1a.C_matrix.toarray()\n"
   ]
  },
  {
   "cell_type": "code",
   "execution_count": 31,
   "metadata": {},
   "outputs": [
    {
     "data": {
      "text/plain": [
       "array([ 0.00000000e+00,  0.00000000e+00,  0.00000000e+00,  0.00000000e+00,\n",
       "        0.00000000e+00,  0.00000000e+00,  0.00000000e+00, -1.38771742e-02,\n",
       "        1.24894568e-01, -6.24472840e-01,  3.08135167e-16,  6.24472840e-01,\n",
       "       -1.24894568e-01,  1.38771742e-02,  0.00000000e+00,  0.00000000e+00,\n",
       "        0.00000000e+00,  0.00000000e+00,  0.00000000e+00,  0.00000000e+00])"
      ]
     },
     "execution_count": 31,
     "metadata": {},
     "output_type": "execute_result"
    }
   ],
   "source": [
    "burger_1a.D_matrix.toarray()[10]\n"
   ]
  },
  {
   "cell_type": "code",
   "execution_count": 18,
   "metadata": {},
   "outputs": [
    {
     "data": {
      "text/plain": [
       "array([-0.        , -0.05258303, -0.10487609, -0.15659555, -0.20747022,\n",
       "       -0.25724684, -0.30569479, -0.35260985, -0.39781685, -0.44117128,\n",
       "       -0.48255983, -0.52189993, -0.55913849, -0.59424986, -0.62723344,\n",
       "       -0.65811078, -0.68692254, -0.71372547, -0.73858936, -0.76159416])"
      ]
     },
     "execution_count": 18,
     "metadata": {},
     "output_type": "execute_result"
    }
   ],
   "source": [
    "burger_1a.u[0]\n"
   ]
  },
  {
   "cell_type": "code",
   "execution_count": 30,
   "metadata": {},
   "outputs": [
    {
     "data": {
      "text/plain": [
       "array([ 0.00000000e+00, -3.35620371e-02, -6.70764704e-02, -1.00508609e-01,\n",
       "       -1.33803159e-01, -1.66919622e-01, -1.99803077e-01, -2.29592226e-01,\n",
       "        6.13432505e+01,  8.83660596e+08,  2.77363593e+12,  2.33088525e+14,\n",
       "        3.74049436e+17,  1.90784258e+19, -1.84682199e+20,  7.12730441e+21,\n",
       "       -5.50860021e+22, -7.84565734e+21,  9.09589004e+23, -7.61594156e-01])"
      ]
     },
     "execution_count": 30,
     "metadata": {},
     "output_type": "execute_result"
    }
   ],
   "source": [
    "burger_1a.u[12]\n"
   ]
  },
  {
   "cell_type": "code",
   "execution_count": 16,
   "metadata": {},
   "outputs": [
    {
     "data": {
      "text/plain": [
       "np.float64(0.8326304529157487)"
      ]
     },
     "execution_count": 16,
     "metadata": {},
     "output_type": "execute_result"
    }
   ],
   "source": [
    "burger_1a.C\n"
   ]
  },
  {
   "cell_type": "code",
   "execution_count": 17,
   "metadata": {},
   "outputs": [
    {
     "data": {
      "image/png": "[encoded data removed]",
      "text/plain": [
       "<Figure size 640x480 with 2 Axes>"
      ]
     },
     "metadata": {},
     "output_type": "display_data"
    }
   ],
   "source": [
    "x = burger_1a.x\n",
    "y = burger_1a.t\n",
    "X , Y = np.meshgrid( x , y )\n",
    "\n",
    "Z = burger_1a.u\n",
    "\n",
    "contour = plt.contourf( X , Y , Z )\n",
    "\n",
    "plt.title( \"Exact Solution for Burgers Equation\" )\n",
    "plt.xlabel( \"x\" )\n",
    "plt.ylabel( \"t\" )\n",
    "\n",
    "cbar = plt.colorbar( contour )\n",
    "cbar.set_label( \"u\" )\n",
    "\n",
    "plt.show()\n"
   ]
  },
  {
   "cell_type": "markdown",
   "metadata": {},
   "source": []
  },
  {
   "cell_type": "markdown",
   "metadata": {},
   "source": []
  },
  {
   "cell_type": "markdown",
   "metadata": {},
   "source": [
    "# Works Cited\n",
    "\n",
    "1. Anderson, D. A., Tannehill, J. C., Pletcher, R. H., Munipalli, R., and Shankar, V. (2021). $ \\underline{\\text{Computational Fluid Mechanics and Heat Transfer}} $. 4th Edition. CRC Press.\n"
   ]
  },
  {
   "cell_type": "markdown",
   "metadata": {},
   "source": []
  }
 ],
 "metadata": {
  "kernelspec": {
   "display_name": "davinci",
   "language": "python",
   "name": "python3"
  },
  "language_info": {
   "codemirror_mode": {
    "name": "ipython",
    "version": 3
   },
   "file_extension": ".py",
   "mimetype": "text/x-python",
   "name": "python",
   "nbconvert_exporter": "python",
   "pygments_lexer": "ipython3",
   "version": "3.10.14"
  }
 },
 "nbformat": 4,
 "nbformat_minor": 2
}
