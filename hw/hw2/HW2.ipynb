{
 "cells": [
  {
   "cell_type": "markdown",
   "metadata": {},
   "source": [
    "# 1. Introduction\n",
    "\n",
    "The objective of this assignment is to perform the numerical calculation of the heat equation in one spatial dimension, defined in Equation 1. This equation describes the diffusion of a passive scalar in a field for any number of spatial dimensions.\n",
    "\n",
    "$\\frac{\\partial T}{\\partial t} = \\frac{\\partial^2 T}{\\partial x^2} $\n",
    "**Equation 1** \n",
    "\n",
    "The domain of this assignment is a simulated wall of a given thickness originall at a given temperature. The wall has a known diffusion of the heat transfer or temperature difference. In the transient simulation, the sides of the wall are suddenly increased to a given temperature, bringing the temperature of the wall up to some value.\n",
    "\n",
    "**Table 1**\n",
    "|   Parameter   |   Value   |\n",
    "|---------------|-----------|\n",
    "|   ($L$) Thickness of the simulated wall |   0.3 [$m$] |\n",
    "|   ($T_0$) Initial uniform temperature of the wall | 100 [$K$] |\n",
    "|   ($\\alpha$) Heat diffusivity |   3e-6 [$m^2/s$]    |\n",
    "|   ($T_w$) Sudden wall temperature |   300 [$K$]   |\n",
    "|   ($dx$) Spatial mesh spacing |   0.015 [$m$] |\n",
    "\n"
   ]
  },
  {
   "cell_type": "code",
   "execution_count": 1,
   "metadata": {},
   "outputs": [],
   "source": [
    "import sys\n",
    "import os\n",
    "import time\n",
    "import numpy as np\n",
    "import matplotlib.pyplot as plt\n",
    "\n",
    "# Add the directory containing your module to sys.path\n",
    "module_path = os.path.abspath(os.path.join('..', r\"A:\\Users\\mtthl\\Documents\\Education\\ME5653_CFD\\git\\me5653_CFD_repo\\code\\lib\" ))\n",
    "sys.path.append(module_path)\n",
    "\n",
    "from distributedObjects import *\n",
    "from distributedFunctions import *\n"
   ]
  },
  {
   "cell_type": "code",
   "execution_count": 2,
   "metadata": {},
   "outputs": [],
   "source": [
    "L = 0.300 #[m]\n",
    "T_0 = 100 #[K]\n",
    "T_w = 300 #[K]\n",
    "dx = 0.015 #[m]\n",
    "alpha = 3e-6 #[m2/s]\n",
    "\n",
    "x = np.arange( 0 , L+dx , dx )\n",
    "T = T_0 * np.ones( len( x ) )\n",
    "T[0] = T_w\n",
    "T[-1]= T_w\n"
   ]
  },
  {
   "cell_type": "markdown",
   "metadata": {
    "vscode": {
     "languageId": "latex"
    }
   },
   "source": [
    "# 2. FTCS\n"
   ]
  },
  {
   "cell_type": "code",
   "execution_count": 3,
   "metadata": {},
   "outputs": [
    {
     "name": "stdout",
     "output_type": "stream",
     "text": [
      " \n",
      " \n",
      " \n",
      " \n",
      " \n",
      " \n",
      " \n",
      " \n",
      " \n"
     ]
    },
    {
     "name": "stderr",
     "output_type": "stream",
     "text": [
      "c:\\Users\\mtthl\\.conda\\envs\\davinci\\lib\\site-packages\\scipy\\sparse\\_index.py:151: SparseEfficiencyWarning: Changing the sparsity structure of a csr_matrix is expensive. lil and dok are more efficient.\n",
      "  self._set_arrayXarray(i, j, x)\n",
      "c:\\Users\\mtthl\\.conda\\envs\\davinci\\lib\\site-packages\\scipy\\sparse\\_index.py:108: SparseEfficiencyWarning: Changing the sparsity structure of a csr_matrix is expensive. lil and dok are more efficient.\n",
      "  self._set_intXint(row, col, x.flat[0])\n",
      "A:\\Users\\mtthl\\Documents\\Education\\ME5653_CFD\\git\\me5653_CFD_repo\\code\\lib\\distributedObjects.py:446: SparseEfficiencyWarning: spsolve requires A be CSC or CSR matrix format\n",
      "  cls.u[i+1,:] = spsr.linalg.spsolve( cls.A , b )\n"
     ]
    }
   ],
   "source": [
    "heatEq_FTCS = heatEquation( x , T , ( 0 , 30 * 60 ) , alpha = alpha , dt = 20 )\n",
    "heatEq_FTCS.solve()\n"
   ]
  },
  {
   "cell_type": "code",
   "execution_count": 4,
   "metadata": {},
   "outputs": [
    {
     "data": {
      "text/plain": [
       "array([[300.        , 100.        , 100.        , ..., 100.        ,\n",
       "        100.        , 300.        ],\n",
       "       [300.        , 153.33333333, 100.        , ..., 100.        ,\n",
       "        153.33333333, 300.        ],\n",
       "       [300.        , 178.22222222, 114.22222222, ..., 114.22222222,\n",
       "        178.22222222, 300.        ],\n",
       "       ...,\n",
       "       [300.        , 277.38229842, 255.36145873, ..., 255.36145873,\n",
       "        277.38229842, 300.        ],\n",
       "       [300.        , 277.54146159, 255.67354357, ..., 255.67354357,\n",
       "        277.54146159, 300.        ],\n",
       "       [300.        , 277.69896036, 255.98247571, ..., 255.98247571,\n",
       "        277.69896036, 300.        ]])"
      ]
     },
     "execution_count": 4,
     "metadata": {},
     "output_type": "execute_result"
    }
   ],
   "source": [
    "heatEq_FTCS.u"
   ]
  },
  {
   "cell_type": "code",
   "execution_count": null,
   "metadata": {},
   "outputs": [],
   "source": []
  }
 ],
 "metadata": {
  "kernelspec": {
   "display_name": "davinci",
   "language": "python",
   "name": "python3"
  },
  "language_info": {
   "codemirror_mode": {
    "name": "ipython",
    "version": 3
   },
   "file_extension": ".py",
   "mimetype": "text/x-python",
   "name": "python",
   "nbconvert_exporter": "python",
   "pygments_lexer": "ipython3",
   "version": "3.10.14"
  }
 },
 "nbformat": 4,
 "nbformat_minor": 2
}
