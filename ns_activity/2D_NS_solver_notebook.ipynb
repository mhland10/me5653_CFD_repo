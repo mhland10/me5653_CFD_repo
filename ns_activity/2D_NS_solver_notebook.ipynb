{
 "cells": [
  {
   "cell_type": "markdown",
   "metadata": {},
   "source": [
    "# Introduction\n",
    "\n",
    "In this notebook, we will be exploring the formulation for a basic 2D Navier-Stokes solver as per the activity outlined for ME 5653.\n"
   ]
  },
  {
   "cell_type": "code",
   "execution_count": 1,
   "metadata": {},
   "outputs": [],
   "source": [
    "import sys\n",
    "import os\n",
    "import time\n",
    "import numpy as np\n",
    "import matplotlib.pyplot as plt\n",
    "\n",
    "# Add the directory containing your module to sys.path\n",
    "module_path = os.path.abspath(os.path.join('..', r\"A:\\Users\\mtthl\\Documents\\Education\\ME5653_CFD\\git\\me5653_CFD_repo\\code\\lib\" ))\n",
    "sys.path.append(module_path)\n",
    "\n",
    "from distributedObjects import *\n",
    "from distributedFunctions import *\n"
   ]
  },
  {
   "cell_type": "markdown",
   "metadata": {},
   "source": [
    "# (A) Non-Linear Terms\n",
    "\n",
    "The first alteration to the Navier-Stokes equation is to change the non-linear or advective terms to a flux form to allow for a Linear Algebra method to solve. This means that:\n",
    "\n",
    "$$\n",
    "\n",
    "u\\frac{\\partial u}{\\partial x}=\\frac{\\partial \\frac{1}{2}u^{2}}{\\partial x}\n",
    "\n",
    "$$\n",
    "\n",
    "$$\n",
    "\n",
    "v\\frac{\\partial u}{\\partial y}=\\frac{\\partial \\frac{1}{2}uv}{\\partial y}\n",
    "\n",
    "$$\n",
    "\n",
    "$$\n",
    "\n",
    "u\\frac{\\partial v}{\\partial x}=\\frac{\\partial \\frac{1}{2}uv}{\\partial x}\n",
    "\n",
    "$$\n",
    "\n",
    "$$\n",
    "\n",
    "v\\frac{\\partial v}{\\partial y}=\\frac{\\partial \\frac{1}{2}v^{2}}{\\partial y}\n",
    "\n",
    "$$\n"
   ]
  },
  {
   "cell_type": "markdown",
   "metadata": {},
   "source": [
    "# (B) Discretization\n",
    "\n",
    "The next step is to then go in and discretize the Navier-Stokes equations and Poisson pressure equation. For this activity, we will be using a sixth (6th) order Finite Difference (FD).\n",
    "\n",
    "First, we need to find the coefficients for the 1st derivative.\n"
   ]
  },
  {
   "cell_type": "code",
   "execution_count": 2,
   "metadata": {},
   "outputs": [
    {
     "name": "stdout",
     "output_type": "stream",
     "text": [
      " \n",
      " \n",
      " \n",
      " \n",
      " \n",
      " \n",
      " \n",
      " \n",
      " \n",
      " \n",
      " \n",
      " \n",
      " \n",
      " \n",
      " \n",
      " \n",
      " \n",
      " \n",
      " \n",
      " \n",
      " \n"
     ]
    },
    {
     "data": {
      "text/plain": [
       "array([-1.66666667e-02,  1.50000000e-01, -7.50000000e-01,  3.70074342e-16,\n",
       "        7.50000000e-01, -1.50000000e-01,  1.66666667e-02])"
      ]
     },
     "execution_count": 2,
     "metadata": {},
     "output_type": "execute_result"
    }
   ],
   "source": [
    "first_interior_gradient = numericalGradient( 1 , ( 3 , 3 ) )\n",
    "first_interior_gradient.coeffs\n"
   ]
  },
  {
   "cell_type": "code",
   "execution_count": 3,
   "metadata": {},
   "outputs": [
    {
     "name": "stdout",
     "output_type": "stream",
     "text": [
      " \n",
      " \n",
      " \n",
      " \n",
      " \n",
      " \n",
      " \n",
      " \n",
      " \n",
      " \n",
      " \n",
      " \n",
      " \n",
      " \n",
      " \n",
      " \n",
      " \n",
      " \n",
      " \n",
      " \n",
      " \n"
     ]
    },
    {
     "data": {
      "text/plain": [
       "array([-2.45      ,  6.        , -7.5       ,  6.66666667, -3.75      ,\n",
       "        1.2       , -0.16666667])"
      ]
     },
     "execution_count": 3,
     "metadata": {},
     "output_type": "execute_result"
    }
   ],
   "source": [
    "first_LHS_gradient = numericalGradient( 1 , ( 0 , 6 ) )\n",
    "first_LHS_gradient.coeffs\n"
   ]
  },
  {
   "cell_type": "code",
   "execution_count": 5,
   "metadata": {},
   "outputs": [
    {
     "name": "stdout",
     "output_type": "stream",
     "text": [
      " \n",
      " \n",
      " \n",
      " \n",
      " \n",
      " \n",
      " \n",
      " \n",
      " \n",
      " \n",
      " \n",
      " \n",
      " \n",
      " \n",
      " \n",
      " \n",
      " \n",
      " \n",
      " \n",
      " \n",
      " \n"
     ]
    },
    {
     "data": {
      "text/plain": [
       "array([ 0.16666667, -1.2       ,  3.75      , -6.66666667,  7.5       ,\n",
       "       -6.        ,  2.45      ])"
      ]
     },
     "execution_count": 5,
     "metadata": {},
     "output_type": "execute_result"
    }
   ],
   "source": [
    "first_RHS_gradient = numericalGradient( 1 , ( 6 , 0 ) )\n",
    "first_RHS_gradient.coeffs\n"
   ]
  },
  {
   "cell_type": "markdown",
   "metadata": {},
   "source": [
    "Thus, the first derivative becomes:\n",
    "\n",
    "<u>1st Derivative - Interior Points - 6th Order<u>\n",
    "\n",
    "$$\n",
    "\n",
    "\\frac{\\partial \\phi}{\\partial x}=\\frac{ -\\frac{1}{60}\\phi_{i-3}+\\frac{3}{20}\\phi_{i-2}-\\frac{3}{4}\\phi_{i-1}+\\frac{3}{4}\\phi_{i+1}-\\frac{3}{20}\\phi_{i-2}+\\frac{1}{60}\\phi_{i-3} }{\\Delta x}\n",
    "\n",
    "$$\n"
   ]
  },
  {
   "cell_type": "markdown",
   "metadata": {},
   "source": [
    "<u>1st Derivative - LHS Boundary Points - 6th Order<u>\n",
    "\n",
    "$$\n",
    "\n",
    "\\frac{\\partial \\phi}{\\partial x}=\\frac{ -\\frac{49}{20}\\phi_{i}+6\\phi_{i+1}-\\frac{15}{2}\\phi_{i+2}+\\frac{20}{3}\\phi_{i+3}-\\frac{15}{4}\\phi_{i+4}+\\frac{6}{5}\\phi_{i+5}-\\frac{1}{6}\\phi_{i+6} }{\\Delta x}\n",
    "\n",
    "$$\n"
   ]
  },
  {
   "cell_type": "markdown",
   "metadata": {},
   "source": [
    "<u>1st Derivative - RHS Boundary Points - 6th Order<u>\n",
    "\n",
    "$$\n",
    "\n",
    "\\frac{\\partial \\phi}{\\partial x}=\\frac{ \\frac{1}{6}\\phi_{i-6}-\\frac{6}{5}\\phi_{i-5}+\\frac{15}{4}\\phi_{i-4}-\\frac{20}{3}\\phi_{i-3}+\\frac{15}{2}\\phi_{i-2}-6\\phi_{i-1}+\\frac{49}{20}\\phi_{i} }{\\Delta x}\n",
    "\n",
    "$$\n"
   ]
  },
  {
   "cell_type": "markdown",
   "metadata": {},
   "source": [
    "Second, we need to find the coefficients for the 2nd derivative.\n"
   ]
  },
  {
   "cell_type": "code",
   "execution_count": 6,
   "metadata": {},
   "outputs": [
    {
     "name": "stdout",
     "output_type": "stream",
     "text": [
      " \n",
      " \n",
      " \n",
      " \n",
      " \n",
      " \n",
      " \n",
      " \n",
      " \n",
      " \n",
      " \n",
      " \n",
      " \n",
      " \n",
      " \n",
      " \n",
      " \n",
      " \n",
      " \n",
      " \n",
      " \n"
     ]
    },
    {
     "data": {
      "text/plain": [
       "array([ 0.01111111, -0.15      ,  1.5       , -2.72222222,  1.5       ,\n",
       "       -0.15      ,  0.01111111])"
      ]
     },
     "execution_count": 6,
     "metadata": {},
     "output_type": "execute_result"
    }
   ],
   "source": [
    "second_interior_gradient = numericalGradient( 2 , ( 3 , 3 ) )\n",
    "second_interior_gradient.coeffs\n"
   ]
  },
  {
   "cell_type": "code",
   "execution_count": 7,
   "metadata": {},
   "outputs": [
    {
     "name": "stdout",
     "output_type": "stream",
     "text": [
      " \n",
      " \n",
      " \n",
      " \n",
      " \n",
      " \n",
      " \n",
      " \n",
      " \n",
      " \n",
      " \n",
      " \n",
      " \n",
      " \n",
      " \n",
      " \n",
      " \n",
      " \n",
      " \n",
      " \n",
      " \n"
     ]
    },
    {
     "data": {
      "text/plain": [
       "array([  4.51111111, -17.4       ,  29.25      , -28.22222222,\n",
       "        16.5       ,  -5.4       ,   0.76111111])"
      ]
     },
     "execution_count": 7,
     "metadata": {},
     "output_type": "execute_result"
    }
   ],
   "source": [
    "second_LHS_gradient = numericalGradient( 2 , ( 0 , 6 ) )\n",
    "second_LHS_gradient.coeffs\n"
   ]
  },
  {
   "cell_type": "code",
   "execution_count": 8,
   "metadata": {},
   "outputs": [
    {
     "name": "stdout",
     "output_type": "stream",
     "text": [
      " \n",
      " \n",
      " \n",
      " \n",
      " \n",
      " \n",
      " \n",
      " \n",
      " \n",
      " \n",
      " \n",
      " \n",
      " \n",
      " \n",
      " \n",
      " \n",
      " \n",
      " \n",
      " \n",
      " \n",
      " \n"
     ]
    },
    {
     "data": {
      "text/plain": [
       "array([  0.76111111,  -5.4       ,  16.5       , -28.22222222,\n",
       "        29.25      , -17.4       ,   4.51111111])"
      ]
     },
     "execution_count": 8,
     "metadata": {},
     "output_type": "execute_result"
    }
   ],
   "source": [
    "second_RHS_gradient = numericalGradient( 2 , ( 6 , 0 ) )\n",
    "second_RHS_gradient.coeffs\n"
   ]
  },
  {
   "cell_type": "markdown",
   "metadata": {},
   "source": [
    "Thus, the second derivative becomes:\n",
    "\n",
    "<u>2nd Derivative - Interior Points - 6th Order<u>\n",
    "\n",
    "$$\n",
    "\n",
    "\\frac{\\partial^2 \\phi}{\\partial x^2}=\\frac{ \\frac{1}{90}\\phi_{i-3}-\\frac{3}{20}\\phi_{i-2}+\\frac{3}{2}\\phi_{i-1}-\\frac{245}{90}\\phi_{i}+\\frac{3}{2}\\phi_{i+1}-\\frac{3}{20}\\phi_{i+2}+\\frac{1}{90}\\phi_{i+3} }{\\Delta x}\n",
    "\n",
    "$$\n"
   ]
  },
  {
   "cell_type": "markdown",
   "metadata": {},
   "source": [
    "<u>2nd Derivative - LHS Boundary Points - 6th Order<u>\n",
    "\n",
    "$$\n",
    "\n",
    "\\frac{\\partial^2 \\phi}{\\partial x^2}=\\frac{ \\frac{406}{90}\\phi_{i}-\\frac{87}{5}\\phi_{i+1}+\\frac{117}{4}\\phi_{i+2}-\\frac{254}{9}\\phi_{i+3}+\\frac{33}{2}\\phi_{i+4}-\\frac{27}{5}\\phi_{i+5}+\\frac{137}{180}\\phi_{i+6} }{\\Delta x}\n",
    "\n",
    "$$\n"
   ]
  },
  {
   "cell_type": "markdown",
   "metadata": {},
   "source": [
    "<u>2nd Derivative - RHS Boundary Points - 6th Order<u>\n",
    "\n",
    "$$\n",
    "\n",
    "\\frac{\\partial^2 \\phi}{\\partial x^2}=\\frac{ \\frac{137}{180}\\phi_{i-6}-\\frac{27}{5}\\phi_{i-5}+\\frac{33}{2}\\phi_{i-4}-\\frac{254}{9}\\phi_{i-3}+\\frac{117}{4}\\phi_{i-2}-\\frac{87}{5}\\phi_{i-1}+\\frac{406}{90}\\phi_{i} }{\\Delta x}\n",
    "\n",
    "$$\n"
   ]
  },
  {
   "cell_type": "markdown",
   "metadata": {},
   "source": [
    "With this discretization, the NS equations can be discretized.\n"
   ]
  },
  {
   "cell_type": "markdown",
   "metadata": {},
   "source": [
    "# (C) Integration-Ready NS Equations\n",
    "\n",
    "The next step is to re-arrange the Navier-Stokes equations so that they are time-integration ready. Note that $P'=P/\\rho$\n",
    "\n",
    "<u>x-Component Navier Stokes<u>\n",
    "\n",
    "$$\n",
    "\n",
    "\\frac{\\partial u}{\\partial t}=\\nu\\left(\\frac{\\partial^2 u}{\\partial x^2}+\\frac{\\partial^2 u}{\\partial y^2}\\right)-\\frac{\\partial P'}{\\partial x}-\\frac{\\partial \\frac{1}{2}u^2}{\\partial x}-\\frac{\\partial \\frac{1}{2}uv}{\\partial y}\n",
    "\n",
    "$$\n"
   ]
  },
  {
   "cell_type": "markdown",
   "metadata": {},
   "source": [
    "<u>y-Component Navier Stokes<u>\n",
    "\n",
    "$$\n",
    "\n",
    "\\frac{\\partial v}{\\partial t}=\\nu\\left(\\frac{\\partial^2 v}{\\partial x^2}+\\frac{\\partial^2 v}{\\partial y^2}\\right)-\\frac{\\partial P'}{\\partial y}-\\frac{\\partial \\frac{1}{2}v^2}{\\partial y}-\\frac{\\partial \\frac{1}{2}uv}{\\partial x}\n",
    "\n",
    "$$\n",
    "\n"
   ]
  },
  {
   "cell_type": "markdown",
   "metadata": {},
   "source": [
    "# (D) Time Integration Scheme\n",
    "\n",
    "For time integration, we will use the Adams-Bashforth 3rd order scheme, which is formulated as:\n",
    "\n",
    "$$\n",
    "\n",
    "\\phi^{n+1}=\\phi^{n}+\\frac{\\Delta t}{12}\\left( 23 f\\left( t^{n},u^{n} \\right) - 16 f\\left( t^{n-1},u^{n-1} \\right) + 5 f\\left( t^{n-2},u^{n-2} \\right) \\right)\n",
    "\n",
    "$$\n",
    "\n",
    "Where\n",
    "\n",
    "$$\n",
    "\n",
    "f=\\frac{\\partial \\phi}{\\partial t}\n",
    "\n",
    "$$\n",
    "\n",
    "And $n$ is the time step index.\n",
    "\n"
   ]
  },
  {
   "cell_type": "markdown",
   "metadata": {},
   "source": [
    "# (E) Poisson Equation Formulation\n",
    "\n",
    "The next step is to use the Gauss-Seidel formulation to solve the Poisson pressure equation, as below.\n",
    "\n",
    "$$\n",
    "\n",
    "\\frac{\\partial^2 P'}{\\partial x^2}+\\frac{\\partial^2 P'}{\\partial y^2}=-\\left( \\left( \\frac{\\partial u}{\\partial x} \\right)^{2} + 2\\frac{\\partial u}{\\partial y}\\frac{\\partial v}{\\partial x} + \\left( \\frac{\\partial v}{\\partial y} \\right)^{2} \\right)\n",
    "\n",
    "$$\n"
   ]
  },
  {
   "cell_type": "markdown",
   "metadata": {},
   "source": [
    "The Gauss-Seidel (GS) formulation for 2D is formulated as below for a Laplace equation (RHS of Poisson equation is zero (0)).\n",
    "\n",
    "$$\n",
    "\n",
    "\\phi^{k+1}_{i,j}=\\frac{ \\phi^{k}_{i-1,j} + \\phi^{k+1}_{i+1,j} + \\beta^{2}( \\phi^{k}_{i,j+1} + \\phi^{k+1}_{i,j-1} ) }{2(1+\\beta^2)}\n",
    "\n",
    "$$\n",
    "\n",
    "Where \n",
    "\n",
    "$$\n",
    "\n",
    "\\beta=\\frac{\\Delta x}{\\Delta y}\n",
    "\n",
    "$$\n",
    "\n",
    "And $i$ & $j$ are spatial indices, and $k$ is the iteration index.\n"
   ]
  },
  {
   "cell_type": "markdown",
   "metadata": {},
   "source": [
    "When we change this formulation for the Poisson equation, this scheme is formulated as:\n",
    "\n",
    "$$\n",
    "\n",
    "\\phi^{k+1}_{ii} = \\frac{1}{a_{ii,ii}}\\left( b_{ii} - \\sum_{jj=1}^{ii-1}a_{ii,jj}\\phi_{jj}^{k+1} - \\sum_{jj=ii+1}^{n}a_{ii,jj}\\phi_{jj}^{k} \\right) \n",
    "\n",
    "$$\n",
    "\n",
    "For \n",
    "\n",
    "$$\n",
    "\n",
    "[A]<\\phi>=<b>\n",
    "\n",
    "$$\n",
    "\n",
    "And $ii$ and $jj$ are indices for the matrix $[A]$.\n",
    "\n"
   ]
  },
  {
   "cell_type": "markdown",
   "metadata": {},
   "source": [
    "The GS formulation gets applied to the kinematic pressure ($P'$). The pressure will get iterated on using the GS formulation, and the values then get differentiated in the Poisson equation as above. The difference between the left and right side (LHS and RHS) of this equation becomes the residual. Thus,\n",
    "\n",
    "$$\n",
    "\n",
    "residuals = -\\left( \\left( \\frac{\\partial u}{\\partial x} \\right)^{2} + 2\\frac{\\partial u}{\\partial y}\\frac{\\partial v}{\\partial x} + \\left( \\frac{\\partial v}{\\partial y} \\right)^{2} \\right)-\\frac{\\partial^2 P'}{\\partial x^2}-\\frac{\\partial^2 P'}{\\partial y^2}\n",
    "\n",
    "$$\n",
    "\n",
    "Then the field for pressure is solved until the residuals reach some acceptable level, depending on the use of the NS equations.\n"
   ]
  },
  {
   "cell_type": "markdown",
   "metadata": {},
   "source": [
    "# (F) Boundary Conditions\n",
    "\n",
    "The important condition for the Poisson pressure equation are the boundary conditions, which need to be defined. Since pressure is likely not known at most boundaries, these will be likely Neumann or gradient-based conditions. We will derive the conditions similarly to how I did in Appendix C of my Masters thesis.\n",
    "\n",
    "For a no-slip condition, the velocity is 0 on all components ($u=v=0$). Since velocity is constant, x-gradient of all velocities are zero, and the second x derivative of velocity is zero. Since the x-gradient is zero, the continuity equation indicates the y-gradient of $v$ is zero too. Also, we can assume steady for this.\n",
    "\n",
    "Thus,\n",
    "\n",
    "$$\n",
    "\n",
    "0=\\frac{\\partial P'}{\\partial x}-\\nu\\left( \\frac{\\partial^2 u}{\\partial y^2} \\right)\n",
    "\n",
    "$$\n",
    "\n",
    "And\n",
    "\n",
    "$$\n",
    "\n",
    "0=\\frac{\\partial P'}{\\partial y}-\\nu\\left( \\frac{\\partial^2 v}{\\partial y^2} \\right)\n",
    "\n",
    "$$\n",
    "\n",
    "Which then becomes,\n",
    "\n",
    "$$\n",
    "\n",
    "\\frac{\\partial P'}{\\partial x}=\\nu\\frac{\\partial^2 u}{\\partial y^2}\n",
    "\n",
    "$$\n",
    "\n",
    "And\n",
    "\n",
    "$$\n",
    "\n",
    "\\frac{\\partial P'}{\\partial y}=\\nu\\frac{\\partial^2 v}{\\partial y^2}\n",
    "\n",
    "$$\n"
   ]
  },
  {
   "cell_type": "markdown",
   "metadata": {},
   "source": [
    "# (G) Pseudo-Code\n",
    "\n",
    "Finally, we can put all this together to show the algorithm to solve the NS equations.\n",
    "\n",
    "![Alt text](AB3_flowchart.png)\n"
   ]
  },
  {
   "cell_type": "markdown",
   "metadata": {},
   "source": [
    "To translate this helpful flowchart into pseudo-code:\n"
   ]
  },
  {
   "cell_type": "code",
   "execution_count": null,
   "metadata": {},
   "outputs": [],
   "source": [
    "for i , t in enumerate( t_values ):\n",
    "    #\n",
    "    # Pull velocity field\n",
    "    #\n",
    "\n",
    "    #\n",
    "    # Calculate velocity gradients\n",
    "    #\n",
    "\n",
    "    # Diffusive gradients\n",
    "\n",
    "    # Advective/flux gradients\n",
    "\n",
    "    #\n",
    "    # Solve pressure field\n",
    "    #\n",
    "    converged = False\n",
    "    c = 0\n",
    "    while not converged:\n",
    "        #\n",
    "        # Iterate on pressure\n",
    "        #\n",
    "\n",
    "        #\n",
    "        # Measure residuals\n",
    "        #\n",
    "\n",
    "        # Loop iteration\n",
    "        c+=1\n",
    "        if field_residuals <= p_residual:\n",
    "            converged = True\n",
    "\n",
    "    # Pressure gradients\n",
    "\n",
    "    #\n",
    "    # Time integration\n",
    "    #\n",
    "\n",
    "    # Add fields\n",
    "    f[i]=# Current integration function if a running summation is not done\n",
    "\n",
    "    if i==0:\n",
    "        # Euler time step\n",
    "        u[i+1]=f[i]*dt+u[i]\n",
    "\n",
    "    elif i==1:\n",
    "        # AB-2 time step\n",
    "        u[i+1]=(dt/2)*(3*f[i]-f[i-1])+u[i]\n",
    "\n",
    "    else:\n",
    "        # AB-3 time step\n",
    "        u[i+1]=(dt/12)*(23*f[i]-16*f[i-1]+5*f[i-2])+u[i]\n"
   ]
  },
  {
   "cell_type": "markdown",
   "metadata": {},
   "source": [
    "# (H) SIMPLE Algorithm \n",
    "\n",
    "For implicit problems, we can use SIMPLE (Semi-Implicit method for Pressure Linked Equations). The basic premise of the solve is that a virtual intermediate point, and then correct it to find an acceptably converged solution.\n",
    "\n",
    "Thus, the pseudo code becomes:\n"
   ]
  },
  {
   "cell_type": "code",
   "execution_count": null,
   "metadata": {},
   "outputs": [],
   "source": [
    "\n",
    "#\n",
    "# Pull velocity field\n",
    "#\n",
    "\n",
    "converged_u = False\n",
    "while not converged_u:\n",
    "\n",
    "    ############################\n",
    "    #\n",
    "    # Virtual step\n",
    "    #\n",
    "    ############################\n",
    "\n",
    "    #\n",
    "    # Calculate velocity gradients\n",
    "    #\n",
    "\n",
    "    # Diffusive gradients\n",
    "\n",
    "    # Advective/flux gradients\n",
    "\n",
    "    #\n",
    "    # Solve pressure field\n",
    "    #\n",
    "    converged = False\n",
    "    c = 0\n",
    "    while not converged:\n",
    "        #\n",
    "        # Iterate on pressure\n",
    "        #\n",
    "\n",
    "        #\n",
    "        # Measure residuals\n",
    "        #\n",
    "\n",
    "        # Loop iteration\n",
    "        c+=1\n",
    "        if field_residuals <= p_residual:\n",
    "            converged = True\n",
    "\n",
    "    # Pressure gradients\n",
    "\n",
    "    #\n",
    "    # Time integration\n",
    "    #\n",
    "\n",
    "    # Add fields\n",
    "    f_0[i]=# Current integration function if a running summation is not done\n",
    "\n",
    "    if i==0:\n",
    "        # Euler time step\n",
    "        u_0[i+1]=f_0[i]*dt+u_0[i]\n",
    "\n",
    "    elif i==1:\n",
    "        # AB-2 time step\n",
    "        u_0[i+1]=(dt/2)*(3*f_0[i]-f_0[i-1])+u_0[i]\n",
    "\n",
    "    else:\n",
    "        # AB-3 time step\n",
    "        u_0[i+1]=(dt/12)*(23*f_0[i]-16*f_0[i-1]+5*f_0[i-2])+u_0[i]\n",
    "\n",
    "    ############################\n",
    "    #\n",
    "    # Correction step\n",
    "    #\n",
    "    ############################\n",
    "\n",
    "    #\n",
    "    # Calculate velocity gradients\n",
    "    #\n",
    "\n",
    "    # Diffusive gradients\n",
    "\n",
    "    # Advective/flux gradients\n",
    "\n",
    "    #\n",
    "    # Solve pressure field\n",
    "    #\n",
    "    converged = False\n",
    "    c = 0\n",
    "    while not converged:\n",
    "        #\n",
    "        # Iterate on pressure\n",
    "        #\n",
    "\n",
    "        #\n",
    "        # Measure residuals\n",
    "        #\n",
    "\n",
    "        # Loop iteration\n",
    "        c+=1\n",
    "        if field_residuals <= p_residual:\n",
    "            converged = True\n",
    "\n",
    "    # Pressure gradients\n",
    "\n",
    "    # New velocity fields\n",
    "    u[i+1]=u_0[i+1]-(A/(2*dcc))*(P_c[ii+1,j]-P_c[ii-1,j])\n",
    "\n",
    "\n",
    "    if velocity_residuals<=u_residual:\n",
    "        converged_u = True\n",
    "\n"
   ]
  },
  {
   "cell_type": "markdown",
   "metadata": {},
   "source": []
  }
 ],
 "metadata": {
  "kernelspec": {
   "display_name": "davinci",
   "language": "python",
   "name": "python3"
  },
  "language_info": {
   "codemirror_mode": {
    "name": "ipython",
    "version": 3
   },
   "file_extension": ".py",
   "mimetype": "text/x-python",
   "name": "python",
   "nbconvert_exporter": "python",
   "pygments_lexer": "ipython3",
   "version": "3.10.14"
  }
 },
 "nbformat": 4,
 "nbformat_minor": 2
}
