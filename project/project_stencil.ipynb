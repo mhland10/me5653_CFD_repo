{
 "cells": [
  {
   "cell_type": "markdown",
   "metadata": {},
   "source": [
    "# Introduction\n",
    "\n",
    "In this document, we will be precribing the template to solve the Kuramoto-Sivashinsky (K-S) equation. In this instance, the stencil in space will be fourth (4th) order, and for the time integration, we will be using the fourth (4th) order Runge-Kutta method.\n",
    "\n",
    "The K-S equation is:\n",
    "\n",
    "$$\n",
    "\n",
    "\\frac{\\partial u}{\\partial t} + u\\frac{\\partial u}{\\partial x} + \\alpha\\frac{\\partial^2 u}{\\partial x^2} + \\beta\\frac{\\partial^3 u}{\\partial x^3} + \\gamma\\frac{\\partial^4 u}{\\partial x^4} = 0\n",
    "\n",
    "$$\n"
   ]
  },
  {
   "cell_type": "code",
   "execution_count": 1,
   "metadata": {},
   "outputs": [
    {
     "ename": "ModuleNotFoundError",
     "evalue": "No module named 'distributedObjects'",
     "output_type": "error",
     "traceback": [
      "\u001b[1;31m---------------------------------------------------------------------------\u001b[0m",
      "\u001b[1;31mModuleNotFoundError\u001b[0m                       Traceback (most recent call last)",
      "Cell \u001b[1;32mIn[1], line 11\u001b[0m\n\u001b[0;32m      8\u001b[0m module_path \u001b[38;5;241m=\u001b[39m os\u001b[38;5;241m.\u001b[39mpath\u001b[38;5;241m.\u001b[39mabspath(os\u001b[38;5;241m.\u001b[39mpath\u001b[38;5;241m.\u001b[39mjoin(\u001b[38;5;124m'\u001b[39m\u001b[38;5;124m..\u001b[39m\u001b[38;5;124m'\u001b[39m, \u001b[38;5;124mr\u001b[39m\u001b[38;5;124m\"\u001b[39m\u001b[38;5;124mA:\u001b[39m\u001b[38;5;124m\\\u001b[39m\u001b[38;5;124mUsers\u001b[39m\u001b[38;5;124m\\\u001b[39m\u001b[38;5;124mmtthl\u001b[39m\u001b[38;5;124m\\\u001b[39m\u001b[38;5;124mDocuments\u001b[39m\u001b[38;5;124m\\\u001b[39m\u001b[38;5;124mEducation\u001b[39m\u001b[38;5;124m\\\u001b[39m\u001b[38;5;124mME5653_CFD\u001b[39m\u001b[38;5;124m\\\u001b[39m\u001b[38;5;124mgit\u001b[39m\u001b[38;5;124m\\\u001b[39m\u001b[38;5;124mme5653_CFD_repo\u001b[39m\u001b[38;5;124m\\\u001b[39m\u001b[38;5;124mcode\u001b[39m\u001b[38;5;124m\\\u001b[39m\u001b[38;5;124mlib\u001b[39m\u001b[38;5;124m\"\u001b[39m ))\n\u001b[0;32m      9\u001b[0m sys\u001b[38;5;241m.\u001b[39mpath\u001b[38;5;241m.\u001b[39mappend(module_path)\n\u001b[1;32m---> 11\u001b[0m \u001b[38;5;28;01mfrom\u001b[39;00m \u001b[38;5;21;01mdistributedObjects\u001b[39;00m \u001b[38;5;28;01mimport\u001b[39;00m \u001b[38;5;241m*\u001b[39m\n\u001b[0;32m     12\u001b[0m \u001b[38;5;28;01mfrom\u001b[39;00m \u001b[38;5;21;01mdistributedFunctions\u001b[39;00m \u001b[38;5;28;01mimport\u001b[39;00m \u001b[38;5;241m*\u001b[39m\n",
      "\u001b[1;31mModuleNotFoundError\u001b[0m: No module named 'distributedObjects'"
     ]
    }
   ],
   "source": [
    "import sys\n",
    "import os\n",
    "import time\n",
    "import numpy as np\n",
    "import matplotlib.pyplot as plt\n",
    "\n",
    "# Add the directory containing your module to sys.path\n",
    "module_path = os.path.abspath(os.path.join('..', r\"A:\\Users\\mtthl\\Documents\\Education\\ME5653_CFD\\git\\me5653_CFD_repo\\code\\lib\" ))\n",
    "sys.path.append(module_path)\n",
    "\n",
    "from distributedObjects import *\n",
    "from distributedFunctions import *\n"
   ]
  },
  {
   "cell_type": "markdown",
   "metadata": {},
   "source": [
    "# Spatial Stencil\n",
    "\n",
    "The spatial stencil to be 4th order, and thus take four (4) points plus the sampling point, thus as below for interior points.\n",
    "\n",
    "-X-------X-------X--------X-------X-\n",
    "\n",
    "i-2______i-1______i_______i+1_____i+2\n",
    "\n",
    "For the boundary points, the stencil will be:\n",
    "\n",
    "X-------X-------X-------X-------X-\n",
    "\n",
    "i_______i+1____i+2_____i+3_____i+4\n",
    "\n",
    "-X-------X-------X-------X-------X\n",
    "\n",
    "i-4______i-3_____i-2______i-1______i\n",
    "\n",
    "Thus, the formulation for the spatial stencil in the 1st derivative becomes\n"
   ]
  },
  {
   "cell_type": "code",
   "execution_count": null,
   "metadata": {},
   "outputs": [
    {
     "name": "stdout",
     "output_type": "stream",
     "text": [
      " \n",
      " \n",
      " \n",
      " \n",
      " \n",
      " \n",
      " \n",
      " \n",
      " \n",
      " \n",
      " \n",
      " \n",
      " \n",
      " \n",
      " \n"
     ]
    },
    {
     "data": {
      "text/plain": [
       "array([ 8.33333333e-02, -6.66666667e-01,  1.11022302e-16,  6.66666667e-01,\n",
       "       -8.33333333e-02])"
      ]
     },
     "execution_count": 2,
     "metadata": {},
     "output_type": "execute_result"
    }
   ],
   "source": [
    "first_interior_gradient = numericalGradient( 1 , ( 2 , 2 ) )\n",
    "first_interior_gradient.coeffs\n"
   ]
  },
  {
   "cell_type": "code",
   "execution_count": null,
   "metadata": {},
   "outputs": [
    {
     "name": "stdout",
     "output_type": "stream",
     "text": [
      " \n",
      " \n",
      " \n",
      " \n",
      " \n",
      " \n",
      " \n",
      " \n",
      " \n",
      " \n",
      " \n",
      " \n",
      " \n",
      " \n",
      " \n"
     ]
    },
    {
     "data": {
      "text/plain": [
       "array([-2.08333333,  4.        , -3.        ,  1.33333333, -0.25      ])"
      ]
     },
     "execution_count": 3,
     "metadata": {},
     "output_type": "execute_result"
    }
   ],
   "source": [
    "first_LHS_gradient = numericalGradient( 1 , ( 0 , 4 ) )\n",
    "first_LHS_gradient.coeffs\n"
   ]
  },
  {
   "cell_type": "code",
   "execution_count": null,
   "metadata": {},
   "outputs": [
    {
     "name": "stdout",
     "output_type": "stream",
     "text": [
      " \n",
      " \n",
      " \n",
      " \n",
      " \n",
      " \n",
      " \n",
      " \n",
      " \n",
      " \n",
      " \n",
      " \n",
      " \n",
      " \n",
      " \n"
     ]
    },
    {
     "data": {
      "text/plain": [
       "array([ 0.25      , -1.33333333,  3.        , -4.        ,  2.08333333])"
      ]
     },
     "execution_count": 4,
     "metadata": {},
     "output_type": "execute_result"
    }
   ],
   "source": [
    "first_RHS_gradient = numericalGradient( 1 , ( 4 , 0 ) )\n",
    "first_RHS_gradient.coeffs\n"
   ]
  },
  {
   "cell_type": "markdown",
   "metadata": {},
   "source": [
    "<u>Interior 1st Derivative - 4th Order<u>\n",
    "\n",
    "$$\n",
    "\n",
    "\\frac{\\partial \\phi}{\\partial x}=\\frac{ \\frac{1}{12}\\phi_{i-2} - \\frac{1}{6}\\phi_{i-1} + \\frac{1}{6}\\phi_{i+1} - \\frac{1}{12}\\phi_{i+2} }{\\Delta x}\n",
    "\n",
    "$$\n",
    "\n",
    "<u>Boundary LHS 1st Derivative - 4th Order<u>\n",
    "\n",
    "$$\n",
    "\n",
    "\\frac{\\partial \\phi}{\\partial x}=\\frac{ \\frac{25}{12}\\phi_{i} + 4\\phi_{i+1} - 3\\phi_{i+2} + \\frac{4}{3}\\phi_{i+3} - \\frac{1}{4}\\phi_{i+4} }{\\Delta x}\n",
    "\n",
    "$$\n",
    "\n",
    "<u>Boundary RHS 1st Derivative - 4th Order<u>\n",
    "\n",
    "$$\n",
    "\n",
    "\\frac{\\partial \\phi}{\\partial x}=\\frac{ \\frac{1}{4}\\phi_{i-4} - \\frac{4}{3}\\phi_{i-3} + 3\\phi_{i-2} - 4\\phi_{i-1} + \\frac{25}{12}\\phi_{i} }{\\Delta x}\n",
    "\n",
    "$$\n",
    "\n"
   ]
  },
  {
   "cell_type": "markdown",
   "metadata": {},
   "source": [
    "The 2nd derivative becomes\n"
   ]
  },
  {
   "cell_type": "code",
   "execution_count": null,
   "metadata": {},
   "outputs": [
    {
     "name": "stdout",
     "output_type": "stream",
     "text": [
      " \n",
      " \n",
      " \n",
      " \n",
      " \n",
      " \n",
      " \n",
      " \n",
      " \n",
      " \n",
      " \n",
      " \n",
      " \n",
      " \n",
      " \n"
     ]
    },
    {
     "data": {
      "text/plain": [
       "array([-0.08333333,  1.33333333, -2.5       ,  1.33333333, -0.08333333])"
      ]
     },
     "execution_count": 5,
     "metadata": {},
     "output_type": "execute_result"
    }
   ],
   "source": [
    "second_interior_gradient = numericalGradient( 2 , ( 2 , 2 ) )\n",
    "second_interior_gradient.coeffs\n"
   ]
  },
  {
   "cell_type": "code",
   "execution_count": null,
   "metadata": {},
   "outputs": [
    {
     "name": "stdout",
     "output_type": "stream",
     "text": [
      " \n",
      " \n",
      " \n",
      " \n",
      " \n",
      " \n",
      " \n",
      " \n",
      " \n",
      " \n",
      " \n",
      " \n",
      " \n",
      " \n",
      " \n"
     ]
    },
    {
     "data": {
      "text/plain": [
       "array([ 2.91666667, -8.66666667,  9.5       , -4.66666667,  0.91666667])"
      ]
     },
     "execution_count": 7,
     "metadata": {},
     "output_type": "execute_result"
    }
   ],
   "source": [
    "second_LHS_gradient = numericalGradient( 2 , ( 0 , 4 ) )\n",
    "second_LHS_gradient.coeffs\n"
   ]
  },
  {
   "cell_type": "code",
   "execution_count": null,
   "metadata": {},
   "outputs": [
    {
     "name": "stdout",
     "output_type": "stream",
     "text": [
      " \n",
      " \n",
      " \n",
      " \n",
      " \n",
      " \n",
      " \n",
      " \n",
      " \n",
      " \n",
      " \n",
      " \n",
      " \n",
      " \n",
      " \n"
     ]
    },
    {
     "data": {
      "text/plain": [
       "array([ 0.91666667, -4.66666667,  9.5       , -8.66666667,  2.91666667])"
      ]
     },
     "execution_count": 9,
     "metadata": {},
     "output_type": "execute_result"
    }
   ],
   "source": [
    "second_RHS_gradient = numericalGradient( 2 , ( 4 , 0 ) )\n",
    "second_RHS_gradient.coeffs\n"
   ]
  },
  {
   "cell_type": "markdown",
   "metadata": {},
   "source": [
    "<u>Interior 2nd Derivative - 4th Order<u>\n",
    "\n",
    "$$\n",
    "\n",
    "\\frac{\\partial^2 \\phi}{\\partial x^2}=\\frac{ - \\frac{1}{12}\\phi_{i-2} + \\frac{4}{3}\\phi_{i-1} - \\frac{5}{2}\\phi_{i} + \\frac{4}{3}\\phi_{i+1} - \\frac{1}{12}\\phi_{i+2} }{\\Delta x^2}\n",
    "\n",
    "$$\n",
    "\n",
    "<u>Boundary LHS 2nd Derivative - 4th Order<u>\n",
    "\n",
    "$$\n",
    "\n",
    "\\frac{\\partial^2 \\phi}{\\partial x^2}=\\frac{ \\frac{35}{12}\\phi_{i} - \\frac{26}{3}\\phi_{i+1} + \\frac{19}{2}\\phi_{i+2} - \\frac{14}{3}\\phi_{i+3} + \\frac{11}{12}\\phi_{i+4} }{\\Delta x^2}\n",
    "\n",
    "$$\n",
    "\n",
    "<u>Boundary RHS 2nd Derivative - 4th Order<u>\n",
    "\n",
    "$$\n",
    "\n",
    "\\frac{\\partial^2 \\phi}{\\partial x^2}=\\frac{ \\frac{11}{12}\\phi_{i-4} - \\frac{14}{3}\\phi_{i-3} + \\frac{19}{2}\\phi_{i-2} - \\frac{26}{3}\\phi_{i-1} + \\frac{35}{12}\\phi_{i} }{\\Delta x^2}\n",
    "\n",
    "$$\n"
   ]
  },
  {
   "cell_type": "markdown",
   "metadata": {},
   "source": [
    "Even though we will not be using the 3rd derivative, here it is\n"
   ]
  },
  {
   "cell_type": "code",
   "execution_count": null,
   "metadata": {},
   "outputs": [
    {
     "name": "stdout",
     "output_type": "stream",
     "text": [
      " \n",
      " \n",
      " \n",
      " \n",
      " \n",
      " \n",
      " \n",
      " \n",
      " \n",
      " \n",
      " \n",
      " \n",
      " \n",
      " \n",
      " \n"
     ]
    },
    {
     "data": {
      "text/plain": [
       "array([-0.5,  1. ,  0. , -1. ,  0.5])"
      ]
     },
     "execution_count": 10,
     "metadata": {},
     "output_type": "execute_result"
    }
   ],
   "source": [
    "third_interior_gradient = numericalGradient( 3 , ( 2 , 2 ) )\n",
    "third_interior_gradient.coeffs\n"
   ]
  },
  {
   "cell_type": "code",
   "execution_count": null,
   "metadata": {},
   "outputs": [
    {
     "name": "stdout",
     "output_type": "stream",
     "text": [
      " \n",
      " \n",
      " \n",
      " \n",
      " \n",
      " \n",
      " \n",
      " \n",
      " \n",
      " \n",
      " \n",
      " \n",
      " \n",
      " \n",
      " \n"
     ]
    },
    {
     "data": {
      "text/plain": [
       "array([ -2.5,   9. , -12. ,   7. ,  -1.5])"
      ]
     },
     "execution_count": 11,
     "metadata": {},
     "output_type": "execute_result"
    }
   ],
   "source": [
    "third_LHS_gradient = numericalGradient( 3 , ( 0 , 4 ) )\n",
    "third_LHS_gradient.coeffs\n"
   ]
  },
  {
   "cell_type": "code",
   "execution_count": null,
   "metadata": {},
   "outputs": [
    {
     "name": "stdout",
     "output_type": "stream",
     "text": [
      " \n",
      " \n",
      " \n",
      " \n",
      " \n",
      " \n",
      " \n",
      " \n",
      " \n",
      " \n",
      " \n",
      " \n",
      " \n",
      " \n",
      " \n"
     ]
    },
    {
     "data": {
      "text/plain": [
       "array([ 1.5, -7. , 12. , -9. ,  2.5])"
      ]
     },
     "execution_count": 12,
     "metadata": {},
     "output_type": "execute_result"
    }
   ],
   "source": [
    "third_RHS_gradient = numericalGradient( 3 , ( 4 , 0 ) )\n",
    "third_RHS_gradient.coeffs\n"
   ]
  },
  {
   "cell_type": "markdown",
   "metadata": {},
   "source": [
    "<u>Interior 3rd Derivative - 4th Order<u>\n",
    "\n",
    "$$\n",
    "\n",
    "\\frac{\\partial^3 \\phi}{\\partial x^3}=\\frac{ \\frac{1}{2}(\\phi_{i+2}-\\phi_{i-2}) - (\\phi_{i+1}-\\phi_{i-1}) }{\\Delta x^3}\n",
    "\n",
    "$$\n",
    "\n",
    "<u>Boundary LHS 3rd Derivative - 4th Order<u>\n",
    "\n",
    "$$\n",
    "\n",
    "\\frac{\\partial^3 \\phi}{\\partial x^3}=\\frac{ -\\frac{5}{2}\\phi_{i} + 9\\phi_{i+1} - 12\\phi_{i+2} + 7\\phi_{i+3} - \\frac{3}{2}\\phi_{i+4}  }{\\Delta x^3}\n",
    "\n",
    "$$\n",
    "\n",
    "<u>Boundary RHS 3rd Derivative - 4th Order<u>\n",
    "\n",
    "$$\n",
    "\n",
    "\\frac{\\partial^3 \\phi}{\\partial x^3}=\\frac{ \\frac{3}{2}\\phi_{i-4} - 7\\phi_{i-3} + 12\\phi_{i-2} - 9\\phi_{i-1} + \\frac{5}{2}\\phi_{i}  }{\\Delta x^3}\n",
    "\n",
    "$$\n"
   ]
  },
  {
   "cell_type": "markdown",
   "metadata": {},
   "source": [
    "Finally, the fourth (4th) derivative will be\n"
   ]
  },
  {
   "cell_type": "code",
   "execution_count": null,
   "metadata": {},
   "outputs": [
    {
     "name": "stdout",
     "output_type": "stream",
     "text": [
      " \n",
      " \n",
      " \n",
      " \n",
      " \n",
      " \n",
      " \n",
      " \n",
      " \n",
      " \n",
      " \n",
      " \n",
      " \n",
      " \n",
      " \n"
     ]
    },
    {
     "data": {
      "text/plain": [
       "array([ 1., -4.,  6., -4.,  1.])"
      ]
     },
     "execution_count": 13,
     "metadata": {},
     "output_type": "execute_result"
    }
   ],
   "source": [
    "fourth_interior_gradient = numericalGradient( 4 , ( 3 , 3 ) )\n",
    "fourth_interior_gradient.coeffs\n"
   ]
  },
  {
   "cell_type": "code",
   "execution_count": null,
   "metadata": {},
   "outputs": [
    {
     "name": "stdout",
     "output_type": "stream",
     "text": [
      " \n",
      " \n",
      " \n",
      " \n",
      " \n",
      " \n",
      " \n",
      " \n",
      " \n",
      " \n",
      " \n",
      " \n",
      " \n",
      " \n",
      " \n"
     ]
    },
    {
     "data": {
      "text/plain": [
       "array([ 1., -4.,  6., -4.,  1.])"
      ]
     },
     "execution_count": 14,
     "metadata": {},
     "output_type": "execute_result"
    }
   ],
   "source": [
    "fourth_LHS_gradient = numericalGradient( 4 , ( 0 , 4 ) )\n",
    "fourth_LHS_gradient.coeffs\n"
   ]
  },
  {
   "cell_type": "code",
   "execution_count": null,
   "metadata": {},
   "outputs": [
    {
     "name": "stdout",
     "output_type": "stream",
     "text": [
      " \n",
      " \n",
      " \n",
      " \n",
      " \n",
      " \n",
      " \n",
      " \n",
      " \n",
      " \n",
      " \n",
      " \n",
      " \n",
      " \n",
      " \n"
     ]
    },
    {
     "data": {
      "text/plain": [
       "array([ 1., -4.,  6., -4.,  1.])"
      ]
     },
     "execution_count": 15,
     "metadata": {},
     "output_type": "execute_result"
    }
   ],
   "source": [
    "third_RHS_gradient = numericalGradient( 4 , ( 4 , 0 ) )\n",
    "third_RHS_gradient.coeffs\n"
   ]
  },
  {
   "cell_type": "markdown",
   "metadata": {},
   "source": [
    "<u>Interior 4th Derivative - 4th Order<u>\n",
    "\n",
    "$$\n",
    "\n",
    "\\frac{\\partial^4 \\phi}{\\partial x^4}=\\frac{ \\phi_{i-2} - 4\\phi_{i-1} + 6\\phi_{i} - 4\\phi_{i+1} + \\phi_{i+2} }{\\Delta x^4}\n",
    "\n",
    "$$\n",
    "\n",
    "<u>Boundary LHS 4th Derivative - 4th Order<u>\n",
    "\n",
    "$$\n",
    "\n",
    "\\frac{\\partial^4 \\phi}{\\partial x^4}=\\frac{ \\phi_{i} - 4\\phi_{i+1} + 6\\phi_{i+2} - 4\\phi_{i+3} + \\phi_{i+4} }{\\Delta x^4}\n",
    "\n",
    "$$\n",
    "\n",
    "<u>Boundary RHS 4th Derivative - 4th Order<u>\n",
    "\n",
    "$$\n",
    "\n",
    "\\frac{\\partial^4 \\phi}{\\partial x^4}=\\frac{ \\phi_{i-4} - 4\\phi_{i-3} + 6\\phi_{i-2} - 4\\phi_{i-1} + \\phi_{i} }{\\Delta x^4}\n",
    "\n",
    "$$\n"
   ]
  },
  {
   "cell_type": "markdown",
   "metadata": {},
   "source": [
    "# Time Integration Method\n",
    "\n",
    "As mentioned before, we will be using the Runge-Kutta 4th order time integration scheme (RK4). I chose this one because it seems to be more widely used, and thus would like to get some experience with it.\n",
    "\n",
    "As formulated in [1], the RK4 method comes down to a central equation as follows:\n",
    "\n",
    "$$\n",
    "\n",
    "\\phi^{n+1}=\\phi^{n}+\\frac{\\Delta t}{6}\\left( R^{n}+2R^{(1)}+2R^{(2)}+R^{(3)} \\right)\n",
    "\n",
    "$$\n",
    "\n",
    "where $R$ is the time derivative linear operator that is a function of $u$ and $\\phi$. All values in the parenthesis in superscript represent a virtual step between the time steps. The process to find the $R$-values is:\n",
    "\n",
    "1. $ \\phi^{(1)}=\\phi^{n}+\\frac{\\Delta t}{2}R^{n} $\n",
    "\n",
    "2. $ \\phi^{(2)}=\\phi^{n}+\\frac{\\Delta t}{2}R^{(1)} $\n",
    "\n",
    "3. $ \\phi^{(3)}=\\phi^{n}+\\Delta t R^{(2)} $\n",
    "\n",
    "The $R^{(3)}$ value comes from the time derivative value that corresponds to $\\phi^{(3)}$.\n",
    "\n"
   ]
  },
  {
   "cell_type": "markdown",
   "metadata": {},
   "source": [
    "# Boundary Condition Formulation\n",
    "\n",
    "As one can see in the K-S equation, there is a 4th derivative of $u$, which means that there needs to be four (4x) boundary conditions (BCs) that constrain the values in the function.\n",
    "\n",
    "I am projecting what the future will be, but since the test functions will likely be trigonometric, the function will be periodic in the domain, or periodic-like. Thus, at the two ends of the domain, the value for $u$ will be held constant. Thus, the time integration scheme will be bypassed resulting in the following formulation:\n",
    "\n",
    "$$\n",
    "\n",
    "\\begin{bmatrix} 1 \\end{bmatrix} \\begin{bmatrix} u \\end{bmatrix}^{n+1}=\\begin{bmatrix} 1 \\end{bmatrix} \\begin{bmatrix} u \\end{bmatrix}^{n}\n",
    "\n",
    "$$\n",
    "\n",
    "There is a helpful property of trigonometric functions in that every other derivative results in the negative of a derivative. Thus, the second (2nd) derivative is the negative of the function, and the fourth (4th) derivative is the negative of the second (2nd) derivative, or the original function. Thus:\n",
    "\n",
    "$$\n",
    "\n",
    "\\begin{bmatrix} 1 \\end{bmatrix} \\begin{bmatrix} \\frac{\\partial^2 u}{\\partial x^2} \\end{bmatrix}^{n+1}=\\begin{bmatrix} -1 \\end{bmatrix} \\begin{bmatrix} u \\end{bmatrix}^{n}\n",
    "\n",
    "$$\n",
    "\n",
    "or\n",
    "\n",
    "$$\n",
    "\n",
    "\\begin{bmatrix} 1 \\end{bmatrix} \\begin{bmatrix} \\frac{\\partial^4 u}{\\partial x^4} \\end{bmatrix}^{n+1}=\\begin{bmatrix} 1 \\end{bmatrix} \\begin{bmatrix} u \\end{bmatrix}^{n}\n",
    "\n",
    "$$\n",
    "\n",
    "or\n",
    "\n",
    "$$\n",
    "\n",
    "\\begin{bmatrix} 1 \\end{bmatrix} \\begin{bmatrix} \\frac{\\partial^4 u}{\\partial x^4} \\end{bmatrix}^{n+1}=\\begin{bmatrix} -1 \\end{bmatrix} \\begin{bmatrix} \\frac{\\partial^2 u}{\\partial x^2} \\end{bmatrix}^{n}\n",
    "\n",
    "$$\n",
    "\n",
    "Now, there is no guarantee that the function will be a trigonometric one. However, it is known that this is a chaotic equation [2], and thus, small changes in conditions are important. It ultimately depends on the use of the equation, but the KS equation is typically used to describe physical phenomena, and thus we may be more interested in the flux behavior at the boundaries. When the values at the boundaries are held the same, this results in a zero-flux condition. Thus,\n",
    "\n",
    "$$\n",
    "\n",
    "\\begin{bmatrix} 1 \\end{bmatrix} \\begin{bmatrix} v \\end{bmatrix} = 0 ,where\\: v=\\frac{u^2}{2}\n",
    "\n",
    "$$\n",
    "\n",
    "Additionally, one may assume that the boundaries have no diffusivity. Thus,\n",
    "\n",
    "$$\n",
    "\n",
    "\\begin{bmatrix} 1 \\end{bmatrix} \\begin{bmatrix} \\frac{\\partial^2 u}{\\partial x^2} \\end{bmatrix}^{n}=0\n",
    "\n",
    "$$\n",
    "\n",
    "Again, it will depend on what we are modeling with our solution.\n"
   ]
  },
  {
   "cell_type": "markdown",
   "metadata": {},
   "source": [
    "# Works Cited\n",
    "\n",
    "1. Anderson, D. A., Tannehill, J. C., Pletcher, R. H., Munipalli, R., and Shankar, V. (2021). $ \\underline{\\text{Computational Fluid Mechanics and Heat Transfer}} $. 4th Edition. CRC Press.\n",
    "\n",
    "2. Boghosian, B. M., Chow, C. C., and Hwa, T. (1999). $ \\underline{\\text{Hydrodynamics of the Kuramoto-Sivashinsky Equation in Two Dimensions}} $. Physical Review Letters. Vol 83, No 25.\n",
    "\n"
   ]
  },
  {
   "cell_type": "markdown",
   "metadata": {},
   "source": []
  }
 ],
 "metadata": {
  "kernelspec": {
   "display_name": "davinci",
   "language": "python",
   "name": "python3"
  },
  "language_info": {
   "codemirror_mode": {
    "name": "ipython",
    "version": 3
   },
   "file_extension": ".py",
   "mimetype": "text/x-python",
   "name": "python",
   "nbconvert_exporter": "python",
   "pygments_lexer": "ipython3",
   "version": "3.10.14"
  }
 },
 "nbformat": 4,
 "nbformat_minor": 2
}
