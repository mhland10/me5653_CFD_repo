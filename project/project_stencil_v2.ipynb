{
 "cells": [
  {
   "cell_type": "markdown",
   "metadata": {},
   "source": [
    "# Introduction\n",
    "\n",
    "In this document, we will be precribing the template to solve the Kuramoto-Sivashinsky (K-S) equation. In this instance, the stencil in space will be fourth (4th) order, and for the time integration, we will be using the fourth (4th) order Runge-Kutta method.\n",
    "\n",
    "The K-S equation is:\n",
    "\n",
    "$$\n",
    "\n",
    "\\frac{\\partial u}{\\partial t} + u\\frac{\\partial u}{\\partial x} + \\alpha\\frac{\\partial^2 u}{\\partial x^2} + \\beta\\frac{\\partial^3 u}{\\partial x^3} + \\gamma\\frac{\\partial^4 u}{\\partial x^4} = 0\n",
    "\n",
    "$$\n"
   ]
  },
  {
   "cell_type": "code",
   "execution_count": 1,
   "metadata": {},
   "outputs": [],
   "source": [
    "import sys\n",
    "import os\n",
    "import time\n",
    "import numpy as np\n",
    "import matplotlib.pyplot as plt\n",
    "\n",
    "# Add the directory containing your module to sys.path\n",
    "module_path = os.path.abspath(os.path.join('..', r\"A:\\Users\\mtthl\\Documents\\Education\\ME5653_CFD\\git\\me5653_CFD_repo\\code\\lib\" ))\n",
    "sys.path.append(module_path)\n",
    "\n",
    "from distributedObjects import *\n",
    "from distributedFunctions import *\n"
   ]
  },
  {
   "cell_type": "markdown",
   "metadata": {},
   "source": [
    "# Spatial Stencil\n",
    "\n",
    "The spatial stencil to be 4th order, and thus take four (4) points plus the sampling point, thus as below for interior points.\n",
    "\n",
    "-X-------X-------X--------X-------X-\n",
    "\n",
    "i-2______i-1______i_______i+1_____i+2\n",
    "\n",
    "For the boundary points, the stencil will be:\n",
    "\n",
    "X-------X-------X-------X-------X-\n",
    "\n",
    "i_______i+1____i+2_____i+3_____i+4\n",
    "\n",
    "-X-------X-------X-------X-------X\n",
    "\n",
    "i-4______i-3_____i-2______i-1______i\n",
    "\n",
    "Thus, the formulation for the spatial stencil in the 1st derivative becomes\n"
   ]
  },
  {
   "cell_type": "code",
   "execution_count": 2,
   "metadata": {},
   "outputs": [
    {
     "name": "stdout",
     "output_type": "stream",
     "text": [
      " \n",
      " \n",
      " \n",
      " \n",
      " \n",
      " \n",
      " \n",
      " \n",
      " \n",
      " \n",
      " \n",
      " \n",
      " \n",
      " \n",
      " \n",
      " \n",
      " \n",
      " \n",
      " \n",
      " \n",
      " \n"
     ]
    },
    {
     "data": {
      "text/plain": [
       "array([-1.66666667e-02,  1.50000000e-01, -7.50000000e-01,  3.70074342e-16,\n",
       "        7.50000000e-01, -1.50000000e-01,  1.66666667e-02])"
      ]
     },
     "execution_count": 2,
     "metadata": {},
     "output_type": "execute_result"
    }
   ],
   "source": [
    "first_interior_gradient = numericalGradient( 1 , ( 3 , 3 ) )\n",
    "first_interior_gradient.coeffs\n"
   ]
  },
  {
   "cell_type": "code",
   "execution_count": 3,
   "metadata": {},
   "outputs": [
    {
     "name": "stdout",
     "output_type": "stream",
     "text": [
      " \n",
      " \n",
      " \n",
      " \n",
      " \n",
      " \n",
      " \n",
      " \n",
      " \n",
      " \n",
      " \n",
      " \n",
      " \n",
      " \n",
      " \n",
      " \n",
      " \n",
      " \n",
      " \n",
      " \n",
      " \n"
     ]
    },
    {
     "data": {
      "text/plain": [
       "array([-2.45      ,  6.        , -7.5       ,  6.66666667, -3.75      ,\n",
       "        1.2       , -0.16666667])"
      ]
     },
     "execution_count": 3,
     "metadata": {},
     "output_type": "execute_result"
    }
   ],
   "source": [
    "first_LHS_gradient = numericalGradient( 1 , ( 0 , 6 ) )\n",
    "first_LHS_gradient.coeffs\n"
   ]
  },
  {
   "cell_type": "code",
   "execution_count": 4,
   "metadata": {},
   "outputs": [
    {
     "name": "stdout",
     "output_type": "stream",
     "text": [
      " \n",
      " \n",
      " \n",
      " \n",
      " \n",
      " \n",
      " \n",
      " \n",
      " \n",
      " \n",
      " \n",
      " \n",
      " \n",
      " \n",
      " \n",
      " \n",
      " \n",
      " \n",
      " \n",
      " \n",
      " \n"
     ]
    },
    {
     "data": {
      "text/plain": [
       "array([ 0.16666667, -1.2       ,  3.75      , -6.66666667,  7.5       ,\n",
       "       -6.        ,  2.45      ])"
      ]
     },
     "execution_count": 4,
     "metadata": {},
     "output_type": "execute_result"
    }
   ],
   "source": [
    "first_RHS_gradient = numericalGradient( 1 , ( 6 , 0 ) )\n",
    "first_RHS_gradient.coeffs\n"
   ]
  },
  {
   "cell_type": "markdown",
   "metadata": {},
   "source": [
    "<u>Interior 1st Derivative - 6th Order<u>\n",
    "\n",
    "$$\n",
    "\n",
    "\\frac{\\partial \\phi}{\\partial x}=\\frac{ -\\frac{1}{60}\\phi_{i-3} + \\frac{3}{20}\\phi_{i-2} - \\frac{3}{4}\\phi_{i-1} + \\frac{3}{4}\\phi_{i+1} - \\frac{3}{20}\\phi_{i+2} + \\frac{1}{60}\\phi_{i+3} }{\\Delta x}\n",
    "\n",
    "$$\n",
    "\n",
    "<u>Boundary LHS 1st Derivative - 6th Order<u>\n",
    "\n",
    "$$\n",
    "\n",
    "\\frac{\\partial \\phi}{\\partial x}=\\frac{ -\\frac{49}{20}\\phi_{i} + 6\\phi_{i+1} - \\frac{15}{2}\\phi_{i+2} + \\frac{20}{3}\\phi_{i+3} - \\frac{15}{4}\\phi_{i+4} + \\frac{6}{5}\\phi_{i+5} - \\frac{1}{6}\\phi_{i+6}  }{\\Delta x}\n",
    "\n",
    "$$\n",
    "\n",
    "<u>Boundary RHS 1st Derivative - 6th Order<u>\n",
    "\n",
    "$$\n",
    "\n",
    "\\frac{\\partial \\phi}{\\partial x}=\\frac{ \\frac{1}{6}\\phi_{i-6} -\\frac{6}{5}\\phi_{i-5} + \\frac{15}{4}\\phi_{i-4} - \\frac{20}{3}\\phi_{i-3} + \\frac{15}{2}\\phi_{i-2} - 6\\phi_{i-1} + \\frac{49}{20}\\phi_{i} }{\\Delta x}\n",
    "\n",
    "$$\n",
    "\n"
   ]
  },
  {
   "cell_type": "markdown",
   "metadata": {},
   "source": [
    "The 2nd derivative becomes\n"
   ]
  },
  {
   "cell_type": "code",
   "execution_count": 5,
   "metadata": {},
   "outputs": [
    {
     "name": "stdout",
     "output_type": "stream",
     "text": [
      " \n",
      " \n",
      " \n",
      " \n",
      " \n",
      " \n",
      " \n",
      " \n",
      " \n",
      " \n",
      " \n",
      " \n",
      " \n",
      " \n",
      " \n",
      " \n",
      " \n",
      " \n",
      " \n",
      " \n",
      " \n"
     ]
    },
    {
     "data": {
      "text/plain": [
       "array([ 0.01111111, -0.15      ,  1.5       , -2.72222222,  1.5       ,\n",
       "       -0.15      ,  0.01111111])"
      ]
     },
     "execution_count": 5,
     "metadata": {},
     "output_type": "execute_result"
    }
   ],
   "source": [
    "second_interior_gradient = numericalGradient( 2 , ( 3 , 3 ) )\n",
    "second_interior_gradient.coeffs\n"
   ]
  },
  {
   "cell_type": "code",
   "execution_count": 6,
   "metadata": {},
   "outputs": [
    {
     "name": "stdout",
     "output_type": "stream",
     "text": [
      " \n",
      " \n",
      " \n",
      " \n",
      " \n",
      " \n",
      " \n",
      " \n",
      " \n",
      " \n",
      " \n",
      " \n",
      " \n",
      " \n",
      " \n",
      " \n",
      " \n",
      " \n",
      " \n",
      " \n",
      " \n"
     ]
    },
    {
     "data": {
      "text/plain": [
       "array([  4.51111111, -17.4       ,  29.25      , -28.22222222,\n",
       "        16.5       ,  -5.4       ,   0.76111111])"
      ]
     },
     "execution_count": 6,
     "metadata": {},
     "output_type": "execute_result"
    }
   ],
   "source": [
    "second_LHS_gradient = numericalGradient( 2 , ( 0 , 6 ) )\n",
    "second_LHS_gradient.coeffs\n"
   ]
  },
  {
   "cell_type": "code",
   "execution_count": 7,
   "metadata": {},
   "outputs": [
    {
     "name": "stdout",
     "output_type": "stream",
     "text": [
      " \n",
      " \n",
      " \n",
      " \n",
      " \n",
      " \n",
      " \n",
      " \n",
      " \n",
      " \n",
      " \n",
      " \n",
      " \n",
      " \n",
      " \n",
      " \n",
      " \n",
      " \n",
      " \n",
      " \n",
      " \n"
     ]
    },
    {
     "data": {
      "text/plain": [
       "array([  0.76111111,  -5.4       ,  16.5       , -28.22222222,\n",
       "        29.25      , -17.4       ,   4.51111111])"
      ]
     },
     "execution_count": 7,
     "metadata": {},
     "output_type": "execute_result"
    }
   ],
   "source": [
    "second_RHS_gradient = numericalGradient( 2 , ( 6 , 0 ) )\n",
    "second_RHS_gradient.coeffs\n"
   ]
  },
  {
   "cell_type": "markdown",
   "metadata": {},
   "source": [
    "<u>Interior 2nd Derivative - 6th Order<u>\n",
    "\n",
    "$$\n",
    "\n",
    "\\frac{\\partial^2 \\phi}{\\partial x^2}=\\frac{ \\frac{1}{90}\\phi_{i-3} - \\frac{3}{20}\\phi_{i-2} + \\frac{3}{2}\\phi_{i-1} - \\frac{245}{90}\\phi_{i} + \\frac{3}{2}\\phi_{i+1} - \\frac{3}{20}\\phi_{i+2} + \\frac{1}{90}\\phi_{i+3} }{\\Delta x^2}\n",
    "\n",
    "$$\n",
    "\n",
    "<u>Boundary LHS 2nd Derivative - 6th Order<u>\n",
    "\n",
    "$$\n",
    "\n",
    "\\frac{\\partial^2 \\phi}{\\partial x^2}=\\frac{ \\frac{406}{90}\\phi_{i} - \\frac{87}{5}\\phi_{i+1} + \\frac{117}{4}\\phi_{i+2} - \\frac{254}{9}\\phi_{i+3} + \\frac{33}{2}\\phi_{i+4} - \\frac{27}{5}\\phi_{i+5} + \\frac{137}{180}\\phi_{i+6} }{\\Delta x^2}\n",
    "\n",
    "$$\n",
    "\n",
    "<u>Boundary RHS 2nd Derivative - 6th Order<u>\n",
    "\n",
    "$$\n",
    "\n",
    "\\frac{\\partial^2 \\phi}{\\partial x^2}=\\frac{ \\frac{137}{180}\\phi_{i-6} - \\frac{27}{5}\\phi_{i-5} + \\frac{33}{2}\\phi_{i-4} - \\frac{254}{9}\\phi_{i-3} + \\frac{117}{4}\\phi_{i-2} - \\frac{87}{5}\\phi_{i-1} + \\frac{406}{90}\\phi_{i} }{\\Delta x^2}\n",
    "\n",
    "$$\n",
    "\n"
   ]
  },
  {
   "cell_type": "markdown",
   "metadata": {},
   "source": [
    "Even though we will not be using the 3rd derivative, here it is\n"
   ]
  },
  {
   "cell_type": "code",
   "execution_count": 8,
   "metadata": {},
   "outputs": [
    {
     "name": "stdout",
     "output_type": "stream",
     "text": [
      " \n",
      " \n",
      " \n",
      " \n",
      " \n",
      " \n",
      " \n",
      " \n",
      " \n",
      " \n",
      " \n",
      " \n",
      " \n",
      " \n",
      " \n",
      " \n",
      " \n",
      " \n",
      " \n",
      " \n",
      " \n"
     ]
    },
    {
     "data": {
      "text/plain": [
       "array([ 0.125, -1.   ,  1.625,  0.   , -1.625,  1.   , -0.125])"
      ]
     },
     "execution_count": 8,
     "metadata": {},
     "output_type": "execute_result"
    }
   ],
   "source": [
    "third_interior_gradient = numericalGradient( 3 , ( 3 , 3 ) )\n",
    "third_interior_gradient.coeffs\n"
   ]
  },
  {
   "cell_type": "code",
   "execution_count": 9,
   "metadata": {},
   "outputs": [
    {
     "name": "stdout",
     "output_type": "stream",
     "text": [
      " \n",
      " \n",
      " \n",
      " \n",
      " \n",
      " \n",
      " \n",
      " \n",
      " \n",
      " \n",
      " \n",
      " \n",
      " \n",
      " \n",
      " \n",
      " \n",
      " \n",
      " \n",
      " \n",
      " \n",
      " \n"
     ]
    },
    {
     "data": {
      "text/plain": [
       "array([ -6.125,  29.   , -57.625,  62.   , -38.375,  13.   ,  -1.875])"
      ]
     },
     "execution_count": 9,
     "metadata": {},
     "output_type": "execute_result"
    }
   ],
   "source": [
    "third_LHS_gradient = numericalGradient( 3 , ( 0 , 6 ) )\n",
    "third_LHS_gradient.coeffs\n"
   ]
  },
  {
   "cell_type": "code",
   "execution_count": 10,
   "metadata": {},
   "outputs": [
    {
     "name": "stdout",
     "output_type": "stream",
     "text": [
      " \n",
      " \n",
      " \n",
      " \n",
      " \n",
      " \n",
      " \n",
      " \n",
      " \n",
      " \n",
      " \n",
      " \n",
      " \n",
      " \n",
      " \n",
      " \n",
      " \n",
      " \n",
      " \n",
      " \n",
      " \n"
     ]
    },
    {
     "data": {
      "text/plain": [
       "array([  1.875, -13.   ,  38.375, -62.   ,  57.625, -29.   ,   6.125])"
      ]
     },
     "execution_count": 10,
     "metadata": {},
     "output_type": "execute_result"
    }
   ],
   "source": [
    "third_RHS_gradient = numericalGradient( 3 , ( 6 , 0 ) )\n",
    "third_RHS_gradient.coeffs\n"
   ]
  },
  {
   "cell_type": "markdown",
   "metadata": {},
   "source": [
    "<u>Interior 3rd Derivative - 6th Order<u>\n",
    "\n",
    "$$\n",
    "\n",
    "\\frac{\\partial^3 \\phi}{\\partial x^3}=\\frac{ \\frac{1}{8}\\phi_{i-3} - \\phi_{i-2} + \\frac{13}{8}\\phi_{i-1} - \\frac{13}{8}\\phi_{i+1} + \\phi_{i+2} - \\frac{1}{8}\\phi_{i+3} }{\\Delta x^3}\n",
    "\n",
    "$$\n",
    "\n",
    "<u>Boundary LHS 3rd Derivative - 6th Order<u>\n",
    "\n",
    "$$\n",
    "\n",
    "\\frac{\\partial^3 \\phi}{\\partial x^3}=\\frac{ -\\frac{49}{8}\\phi_{i} + 29\\phi_{i+1} - \\frac{461}{8}\\phi_{i+2} + 62\\phi_{i+3} - \\frac{307}{8}\\phi_{i+4} + 13\\phi_{i+5} - \\frac{15}{8}\\phi_{i+6}  }{\\Delta x^3}\n",
    "\n",
    "$$\n",
    "\n",
    "<u>Boundary RHS 3rd Derivative - 6th Order<u>\n",
    "\n",
    "$$\n",
    "\n",
    "\\frac{\\partial^3 \\phi}{\\partial x^3}=\\frac{ \\frac{15}{8}\\phi_{i-6} - 13\\phi_{i-5} + \\frac{307}{8}\\phi_{i-4} - 62\\phi_{i-3} + \\frac{461}{8}\\phi_{i-2} - 29\\phi_{i-1} + \\frac{49}{8}\\phi_{i}  }{\\Delta x^3}\n",
    "\n",
    "$$\n"
   ]
  },
  {
   "cell_type": "markdown",
   "metadata": {},
   "source": [
    "Finally, the fourth (4th) derivative will be\n"
   ]
  },
  {
   "cell_type": "code",
   "execution_count": 11,
   "metadata": {},
   "outputs": [
    {
     "name": "stdout",
     "output_type": "stream",
     "text": [
      " \n",
      " \n",
      " \n",
      " \n",
      " \n",
      " \n",
      " \n",
      " \n",
      " \n",
      " \n",
      " \n",
      " \n",
      " \n",
      " \n",
      " \n",
      " \n",
      " \n",
      " \n",
      " \n",
      " \n",
      " \n"
     ]
    },
    {
     "data": {
      "text/plain": [
       "array([-0.16666667,  2.        , -6.5       ,  9.33333333, -6.5       ,\n",
       "        2.        , -0.16666667])"
      ]
     },
     "execution_count": 11,
     "metadata": {},
     "output_type": "execute_result"
    }
   ],
   "source": [
    "fourth_interior_gradient = numericalGradient( 4 , ( 3 , 3 ) )\n",
    "fourth_interior_gradient.coeffs\n"
   ]
  },
  {
   "cell_type": "code",
   "execution_count": 12,
   "metadata": {},
   "outputs": [
    {
     "name": "stdout",
     "output_type": "stream",
     "text": [
      " \n",
      " \n",
      " \n",
      " \n",
      " \n",
      " \n",
      " \n",
      " \n",
      " \n",
      " \n",
      " \n",
      " \n",
      " \n",
      " \n",
      " \n",
      " \n",
      " \n",
      " \n",
      " \n",
      " \n",
      " \n"
     ]
    },
    {
     "data": {
      "text/plain": [
       "array([  5.83333333, -31.        ,  68.5       , -80.66666667,\n",
       "        53.5       , -19.        ,   2.83333333])"
      ]
     },
     "execution_count": 12,
     "metadata": {},
     "output_type": "execute_result"
    }
   ],
   "source": [
    "fourth_LHS_gradient = numericalGradient( 4 , ( 0 , 6 ) )\n",
    "fourth_LHS_gradient.coeffs\n"
   ]
  },
  {
   "cell_type": "code",
   "execution_count": 13,
   "metadata": {},
   "outputs": [
    {
     "name": "stdout",
     "output_type": "stream",
     "text": [
      " \n",
      " \n",
      " \n",
      " \n",
      " \n",
      " \n",
      " \n",
      " \n",
      " \n",
      " \n",
      " \n",
      " \n",
      " \n",
      " \n",
      " \n",
      " \n",
      " \n",
      " \n",
      " \n",
      " \n",
      " \n"
     ]
    },
    {
     "data": {
      "text/plain": [
       "array([  2.83333333, -19.        ,  53.5       , -80.66666667,\n",
       "        68.5       , -31.        ,   5.83333333])"
      ]
     },
     "execution_count": 13,
     "metadata": {},
     "output_type": "execute_result"
    }
   ],
   "source": [
    "third_RHS_gradient = numericalGradient( 4 , ( 6 , 0 ) )\n",
    "third_RHS_gradient.coeffs\n"
   ]
  },
  {
   "cell_type": "markdown",
   "metadata": {},
   "source": [
    "<u>Interior 4th Derivative - 6th Order<u>\n",
    "\n",
    "$$\n",
    "\n",
    "\\frac{\\partial^4 \\phi}{\\partial x^4}=\\frac{ -\\frac{1}{6}\\phi_{i-3} + 2\\phi_{i-2} - \\frac{13}{2}\\phi_{i-1} + \\frac{28}{3}\\phi_{i} - \\frac{13}{2}\\phi_{i+1} + 2\\phi_{i+2} - \\frac{1}{6}\\phi_{i+3} }{\\Delta x^4}\n",
    "\n",
    "$$\n",
    "\n",
    "<u>Boundary LHS 4th Derivative - 6th Order<u>\n",
    "\n",
    "$$\n",
    "\n",
    "\\frac{\\partial^4 \\phi}{\\partial x^4}=\\frac{ \\frac{105}{18}\\phi_{i} - 31\\phi_{i+1} + \\frac{137}{2}\\phi_{i+2} - \\frac{242}{3}\\phi_{i+3} + \\frac{107}{2}\\phi_{i+4} - 19\\phi_{i+5} + \\frac{17}{6}\\phi_{i+6} }{\\Delta x^4}\n",
    "\n",
    "$$\n",
    "\n",
    "<u>Boundary RHS 4th Derivative - 6th Order<u>\n",
    "\n",
    "$$\n",
    "\n",
    "\\frac{\\partial^4 \\phi}{\\partial x^4}=\\frac{ \\frac{17}{6}\\phi_{i-6} - 19\\phi_{i-5} + \\frac{107}{2}\\phi_{i-4} - \\frac{242}{3}\\phi_{i-3} + \\frac{137}{2}\\phi_{i-2} - 31\\phi_{i-1} + \\frac{105}{18}\\phi_{i} }{\\Delta x^4}\n",
    "\n",
    "$$\n"
   ]
  },
  {
   "cell_type": "markdown",
   "metadata": {},
   "source": [
    "# Time Integration Method\n",
    "\n",
    "As mentioned before, we will be using the Runge-Kutta 4th order time integration scheme (RK4). I chose this one because it seems to be more widely used, and thus would like to get some experience with it.\n",
    "\n",
    "As formulated in [1], the RK4 method comes down to a central equation as follows:\n",
    "\n",
    "$$\n",
    "\n",
    "\\phi^{n+1}=\\phi^{n}+\\frac{\\Delta t}{6}\\left( R^{n}+2R^{(1)}+2R^{(2)}+R^{(3)} \\right)\n",
    "\n",
    "$$\n",
    "\n",
    "where $R$ is the time derivative linear operator that is a function of $u$ and $\\phi$. All values in the parenthesis in superscript represent a virtual step between the time steps. The process to find the $R$-values is:\n",
    "\n",
    "1. $ \\phi^{(1)}=\\phi^{n}+\\frac{\\Delta t}{2}R^{n} $\n",
    "\n",
    "2. $ \\phi^{(2)}=\\phi^{n}+\\frac{\\Delta t}{2}R^{(1)} $\n",
    "\n",
    "3. $ \\phi^{(3)}=\\phi^{n}+\\Delta t R^{(2)} $\n",
    "\n",
    "The $R^{(3)}$ value comes from the time derivative value that corresponds to $\\phi^{(3)}$.\n",
    "\n"
   ]
  },
  {
   "cell_type": "markdown",
   "metadata": {},
   "source": [
    "# Boundary Condition Formulation\n",
    "\n",
    "As one can see in the K-S equation, there is a 4th derivative of $u$, which means that there needs to be four (4x) boundary conditions (BCs) that constrain the values in the function.\n",
    "\n",
    "I am projecting what the future will be, but since the test functions will likely be trigonometric, the function will be periodic in the domain, or periodic-like. Thus, at the two ends of the domain, the value for $u$ will be held constant. Thus, the time integration scheme will be bypassed resulting in the following formulation:\n",
    "\n",
    "$$\n",
    "\n",
    "\\begin{bmatrix} 1 \\end{bmatrix} \\begin{bmatrix} u \\end{bmatrix}^{n+1}=\\begin{bmatrix} 1 \\end{bmatrix} \\begin{bmatrix} u \\end{bmatrix}^{n}\n",
    "\n",
    "$$\n",
    "\n",
    "There is a helpful property of trigonometric functions in that every other derivative results in the negative of a derivative. Thus, the second (2nd) derivative is the negative of the function, and the fourth (4th) derivative is the negative of the second (2nd) derivative, or the original function. Thus:\n",
    "\n",
    "$$\n",
    "\n",
    "\\begin{bmatrix} 1 \\end{bmatrix} \\begin{bmatrix} \\frac{\\partial^2 u}{\\partial x^2} \\end{bmatrix}^{n+1}=\\begin{bmatrix} -1 \\end{bmatrix} \\begin{bmatrix} u \\end{bmatrix}^{n}\n",
    "\n",
    "$$\n",
    "\n",
    "or\n",
    "\n",
    "$$\n",
    "\n",
    "\\begin{bmatrix} 1 \\end{bmatrix} \\begin{bmatrix} \\frac{\\partial^4 u}{\\partial x^4} \\end{bmatrix}^{n+1}=\\begin{bmatrix} 1 \\end{bmatrix} \\begin{bmatrix} u \\end{bmatrix}^{n}\n",
    "\n",
    "$$\n",
    "\n",
    "or\n",
    "\n",
    "$$\n",
    "\n",
    "\\begin{bmatrix} 1 \\end{bmatrix} \\begin{bmatrix} \\frac{\\partial^4 u}{\\partial x^4} \\end{bmatrix}^{n+1}=\\begin{bmatrix} -1 \\end{bmatrix} \\begin{bmatrix} \\frac{\\partial^2 u}{\\partial x^2} \\end{bmatrix}^{n}\n",
    "\n",
    "$$\n",
    "\n",
    "Now, there is no guarantee that the function will be a trigonometric one. However, it is known that this is a chaotic equation [2], and thus, small changes in conditions are important. It ultimately depends on the use of the equation, but the KS equation is typically used to describe physical phenomena, and thus we may be more interested in the flux behavior at the boundaries. When the values at the boundaries are held the same, this results in a zero-flux condition. Thus,\n",
    "\n",
    "$$\n",
    "\n",
    "\\begin{bmatrix} 1 \\end{bmatrix} \\begin{bmatrix} v \\end{bmatrix} = 0 ,where\\: v=\\frac{u^2}{2}\n",
    "\n",
    "$$\n",
    "\n",
    "Additionally, one may assume that the boundaries have no diffusivity. Thus,\n",
    "\n",
    "$$\n",
    "\n",
    "\\begin{bmatrix} 1 \\end{bmatrix} \\begin{bmatrix} \\frac{\\partial^2 u}{\\partial x^2} \\end{bmatrix}^{n}=0\n",
    "\n",
    "$$\n",
    "\n",
    "Again, it will depend on what we are modeling with our solution.\n"
   ]
  },
  {
   "cell_type": "markdown",
   "metadata": {},
   "source": [
    "# Works Cited\n",
    "\n",
    "1. Anderson, D. A., Tannehill, J. C., Pletcher, R. H., Munipalli, R., and Shankar, V. (2021). $ \\underline{\\text{Computational Fluid Mechanics and Heat Transfer}} $. 4th Edition. CRC Press.\n",
    "\n",
    "2. Boghosian, B. M., Chow, C. C., and Hwa, T. (1999). $ \\underline{\\text{Hydrodynamics of the Kuramoto-Sivashinsky Equation in Two Dimensions}} $. Physical Review Letters. Vol 83, No 25.\n",
    "\n"
   ]
  },
  {
   "cell_type": "markdown",
   "metadata": {},
   "source": []
  }
 ],
 "metadata": {
  "kernelspec": {
   "display_name": "davinci",
   "language": "python",
   "name": "python3"
  },
  "language_info": {
   "codemirror_mode": {
    "name": "ipython",
    "version": 3
   },
   "file_extension": ".py",
   "mimetype": "text/x-python",
   "name": "python",
   "nbconvert_exporter": "python",
   "pygments_lexer": "ipython3",
   "version": "3.10.14"
  }
 },
 "nbformat": 4,
 "nbformat_minor": 2
}
